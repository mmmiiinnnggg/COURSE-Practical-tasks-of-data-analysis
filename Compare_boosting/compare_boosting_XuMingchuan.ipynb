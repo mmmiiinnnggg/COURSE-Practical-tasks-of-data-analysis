{
 "cells": [
  {
   "cell_type": "markdown",
   "id": "2e35359e-fd57-412f-9272-90dd38cf0e93",
   "metadata": {},
   "source": [
    "# Сравнение различных реализаций бустинга\n",
    "Сюй Минчуань, 5 курс, ММП\n",
    "\n",
    "данные взяты из https://www.kaggle.com/arashnic/hr-analytics-job-change-of-data-scientists\n",
    "\n",
    "Компания, которая активно занимается большими данными и наукой о данных, хочет нанять специалистов по обработке данных из числа людей, успешно прошедших некоторые курсы, которые проводит компания. Задача состоит в том, чтобы предсказать вероятность того, что кандидат будет искать новую работу или будет работать в компании. - **Задача бинарной классификации**"
   ]
  },
  {
   "cell_type": "code",
   "execution_count": 1,
   "id": "7b37943c-8462-40ea-84f5-f36e0c297c51",
   "metadata": {},
   "outputs": [],
   "source": [
    "import numpy as np\n",
    "import pandas as pd\n",
    "import matplotlib.pyplot as plt\n",
    "from matplotlib.pylab import rcParams\n",
    "# rcParams['figure.figsize'] = 80,60\n",
    "import seaborn as sns\n",
    "pd.set_option('display.max_columns', None)\n",
    "import time\n",
    "\n",
    "import lightgbm as lgbm\n",
    "import xgboost as xgb\n",
    "import catboost as cb\n",
    "from sklearn.ensemble import GradientBoostingClassifier\n",
    "from sklearn.model_selection import train_test_split, cross_val_score, GridSearchCV, RandomizedSearchCV\n",
    "from sklearn.metrics import roc_auc_score, accuracy_score, f1_score\n",
    "\n",
    "import warnings\n",
    "warnings.filterwarnings(action=\"ignore\")"
   ]
  },
  {
   "cell_type": "markdown",
   "id": "292abba8-a63d-4562-9371-0a8260d5cd4e",
   "metadata": {},
   "source": [
    "## 1. Описание датасета и предобработка данных\n",
    "\n",
    "Датасет содержит небольшой объем данных (19158 строчек, 13 признаков + 1 таргет), поэтому удобно на нем быстро сделать эксперименты. \n",
    "\n",
    "Признаки и таргет датасета:\n",
    "- `enrollee_id` : Unique ID for candidate\n",
    "- `city`: City code\n",
    "- `city_development_index` : Developement index of the city (scaled)\n",
    "- `gender`: Gender of candidate\n",
    "- `relevent_experience`: Relevant experience of candidate\n",
    "- `enrolled_university`: Type of University course enrolled if any\n",
    "- `education_level`: Education level of candidate\n",
    "- `major_discipline` :Education major discipline of candidate\n",
    "- `experience`: Candidate total experience in years\n",
    "- `company_size`: No of employees in current employer's company\n",
    "- `company_type`: Type of current employer\n",
    "- `lastnewjob`: Difference in years between previous job and current job\n",
    "- `training_hours`: training hours completed\n",
    "- `target`: 0 – Not looking for job change, 1 – Looking for a job change"
   ]
  },
  {
   "cell_type": "code",
   "execution_count": 2,
   "id": "d58e7f7a-5d3c-463b-83e1-12d87c1b6631",
   "metadata": {},
   "outputs": [
    {
     "name": "stdout",
     "output_type": "stream",
     "text": [
      "(19158, 14)\n"
     ]
    }
   ],
   "source": [
    "train_data = pd.read_csv(\"data/aug_train.csv\")\n",
    "print(train_data.shape)"
   ]
  },
  {
   "cell_type": "code",
   "execution_count": 3,
   "id": "208a2e12-1ef3-4afd-bf98-b7b3566e27b7",
   "metadata": {},
   "outputs": [
    {
     "data": {
      "text/html": [
       "<div>\n",
       "<style scoped>\n",
       "    .dataframe tbody tr th:only-of-type {\n",
       "        vertical-align: middle;\n",
       "    }\n",
       "\n",
       "    .dataframe tbody tr th {\n",
       "        vertical-align: top;\n",
       "    }\n",
       "\n",
       "    .dataframe thead th {\n",
       "        text-align: right;\n",
       "    }\n",
       "</style>\n",
       "<table border=\"1\" class=\"dataframe\">\n",
       "  <thead>\n",
       "    <tr style=\"text-align: right;\">\n",
       "      <th></th>\n",
       "      <th>enrollee_id</th>\n",
       "      <th>city</th>\n",
       "      <th>city_development_index</th>\n",
       "      <th>gender</th>\n",
       "      <th>relevent_experience</th>\n",
       "      <th>enrolled_university</th>\n",
       "      <th>education_level</th>\n",
       "      <th>major_discipline</th>\n",
       "      <th>experience</th>\n",
       "      <th>company_size</th>\n",
       "      <th>company_type</th>\n",
       "      <th>last_new_job</th>\n",
       "      <th>training_hours</th>\n",
       "      <th>target</th>\n",
       "    </tr>\n",
       "  </thead>\n",
       "  <tbody>\n",
       "    <tr>\n",
       "      <th>0</th>\n",
       "      <td>8949</td>\n",
       "      <td>city_103</td>\n",
       "      <td>0.920</td>\n",
       "      <td>Male</td>\n",
       "      <td>Has relevent experience</td>\n",
       "      <td>no_enrollment</td>\n",
       "      <td>Graduate</td>\n",
       "      <td>STEM</td>\n",
       "      <td>&gt;20</td>\n",
       "      <td>NaN</td>\n",
       "      <td>NaN</td>\n",
       "      <td>1</td>\n",
       "      <td>36</td>\n",
       "      <td>1.0</td>\n",
       "    </tr>\n",
       "    <tr>\n",
       "      <th>1</th>\n",
       "      <td>29725</td>\n",
       "      <td>city_40</td>\n",
       "      <td>0.776</td>\n",
       "      <td>Male</td>\n",
       "      <td>No relevent experience</td>\n",
       "      <td>no_enrollment</td>\n",
       "      <td>Graduate</td>\n",
       "      <td>STEM</td>\n",
       "      <td>15</td>\n",
       "      <td>50-99</td>\n",
       "      <td>Pvt Ltd</td>\n",
       "      <td>&gt;4</td>\n",
       "      <td>47</td>\n",
       "      <td>0.0</td>\n",
       "    </tr>\n",
       "    <tr>\n",
       "      <th>2</th>\n",
       "      <td>11561</td>\n",
       "      <td>city_21</td>\n",
       "      <td>0.624</td>\n",
       "      <td>NaN</td>\n",
       "      <td>No relevent experience</td>\n",
       "      <td>Full time course</td>\n",
       "      <td>Graduate</td>\n",
       "      <td>STEM</td>\n",
       "      <td>5</td>\n",
       "      <td>NaN</td>\n",
       "      <td>NaN</td>\n",
       "      <td>never</td>\n",
       "      <td>83</td>\n",
       "      <td>0.0</td>\n",
       "    </tr>\n",
       "    <tr>\n",
       "      <th>3</th>\n",
       "      <td>33241</td>\n",
       "      <td>city_115</td>\n",
       "      <td>0.789</td>\n",
       "      <td>NaN</td>\n",
       "      <td>No relevent experience</td>\n",
       "      <td>NaN</td>\n",
       "      <td>Graduate</td>\n",
       "      <td>Business Degree</td>\n",
       "      <td>&lt;1</td>\n",
       "      <td>NaN</td>\n",
       "      <td>Pvt Ltd</td>\n",
       "      <td>never</td>\n",
       "      <td>52</td>\n",
       "      <td>1.0</td>\n",
       "    </tr>\n",
       "    <tr>\n",
       "      <th>4</th>\n",
       "      <td>666</td>\n",
       "      <td>city_162</td>\n",
       "      <td>0.767</td>\n",
       "      <td>Male</td>\n",
       "      <td>Has relevent experience</td>\n",
       "      <td>no_enrollment</td>\n",
       "      <td>Masters</td>\n",
       "      <td>STEM</td>\n",
       "      <td>&gt;20</td>\n",
       "      <td>50-99</td>\n",
       "      <td>Funded Startup</td>\n",
       "      <td>4</td>\n",
       "      <td>8</td>\n",
       "      <td>0.0</td>\n",
       "    </tr>\n",
       "  </tbody>\n",
       "</table>\n",
       "</div>"
      ],
      "text/plain": [
       "   enrollee_id      city  city_development_index gender  \\\n",
       "0         8949  city_103                   0.920   Male   \n",
       "1        29725   city_40                   0.776   Male   \n",
       "2        11561   city_21                   0.624    NaN   \n",
       "3        33241  city_115                   0.789    NaN   \n",
       "4          666  city_162                   0.767   Male   \n",
       "\n",
       "       relevent_experience enrolled_university education_level  \\\n",
       "0  Has relevent experience       no_enrollment        Graduate   \n",
       "1   No relevent experience       no_enrollment        Graduate   \n",
       "2   No relevent experience    Full time course        Graduate   \n",
       "3   No relevent experience                 NaN        Graduate   \n",
       "4  Has relevent experience       no_enrollment         Masters   \n",
       "\n",
       "  major_discipline experience company_size    company_type last_new_job  \\\n",
       "0             STEM        >20          NaN             NaN            1   \n",
       "1             STEM         15        50-99         Pvt Ltd           >4   \n",
       "2             STEM          5          NaN             NaN        never   \n",
       "3  Business Degree         <1          NaN         Pvt Ltd        never   \n",
       "4             STEM        >20        50-99  Funded Startup            4   \n",
       "\n",
       "   training_hours  target  \n",
       "0              36     1.0  \n",
       "1              47     0.0  \n",
       "2              83     0.0  \n",
       "3              52     1.0  \n",
       "4               8     0.0  "
      ]
     },
     "execution_count": 3,
     "metadata": {},
     "output_type": "execute_result"
    }
   ],
   "source": [
    "train_data.head()"
   ]
  },
  {
   "cell_type": "markdown",
   "id": "ab95d66d-8194-447b-94b0-1dbd64f67e8f",
   "metadata": {},
   "source": [
    "У многих категориальных признаков куча нанов, при предобработки данных \n",
    "- использовал LabelEncoding, закодировая эти наны отдельным классом\n",
    "- удалил излишние признаки, например `enrollee_id`\n",
    "- признак `city` преобразуется в целые значения, указывающие номера городов."
   ]
  },
  {
   "cell_type": "code",
   "execution_count": 4,
   "id": "8a08c1fc-4682-4020-9c25-9ed196e13c73",
   "metadata": {},
   "outputs": [],
   "source": [
    "def data_preprocess(data):\n",
    "    # drop unnecessary column\n",
    "    data.drop(['enrollee_id'], axis = 1, inplace = True)\n",
    "    \n",
    "    # deal with city\n",
    "    tmp = data['city'].str.split('_')\n",
    "    data['city'] = tmp.apply(lambda x: x[1])\n",
    "    \n",
    "    # fill nan & transform categorical features to numerical \n",
    "    data['gender'] = data['gender'].fillna(0).map({0: 0, 'Male': 1, 'Female': 2, 'Other': 3})\n",
    "    data['relevent_experience'] = data['relevent_experience'].map({'Has relevent experience': 0, 'No relevent experience': 1})\n",
    "    data['enrolled_university'] = data['enrolled_university'].fillna(0).map({0: 0, 'no_enrollment': 1, \n",
    "                                                                             'Full time course': 2, 'Part time course': 3})\n",
    "    data['education_level'] = data['education_level'].fillna(0).map({0: 0, 'Graduate': 1, 'Masters': 2, 'High School': 3,\n",
    "                                                                    'Phd': 4, 'Primary School': 5})\n",
    "    data['major_discipline'] = data['major_discipline'].fillna(0).map({0: 0, 'STEM': 1, 'Humanities': 2, 'Other': 3,\n",
    "                                                                    'Business Degree': 4, 'Arts': 5, 'No Major': 6})\n",
    "    data['experience'] = data['experience'].fillna(-1).replace(['<1', '>20'], ['0', '21']).astype('int64')\n",
    "    data['company_type'] = data['company_type'].fillna(0).map({0: 0, 'Pvt Ltd': 1, 'Funded Startup': 2, 'Public Sector': 3,\n",
    "                                                                    'Early Stage Startup': 4, 'NGO': 5, 'Other': 6})\n",
    "    data['company_size'] = data['company_size'].fillna(0).map({0: 0, '50-99': 1, '100-500': 2, '10000+': 3,'10/49': 4,\n",
    "                                                               '1000-4999': 5, '<10': 6, '500-999': 7, '5000-9999': 8})\n",
    "    data['last_new_job'] = data['last_new_job'].fillna(-1).replace(['never', '>4'], ['0', '5']).astype('int64')\n",
    "    data['training_hours'] = pd.cut(data['training_hours'], [0,50,100,150,200,250,300,350], labels = [1,2,3,4,5,6,7]).astype('int64')\n",
    "    \n",
    "    return data"
   ]
  },
  {
   "cell_type": "markdown",
   "id": "cfd03998-96e6-45e9-99c9-275c37b6d2fe",
   "metadata": {},
   "source": [
    "Преобразованный датасет уже не содержит наны."
   ]
  },
  {
   "cell_type": "code",
   "execution_count": 5,
   "id": "4f48e9d2-cd88-4da9-a7bb-770a2d358b18",
   "metadata": {},
   "outputs": [
    {
     "data": {
      "text/plain": [
       "city                      0\n",
       "city_development_index    0\n",
       "gender                    0\n",
       "relevent_experience       0\n",
       "enrolled_university       0\n",
       "education_level           0\n",
       "major_discipline          0\n",
       "experience                0\n",
       "company_size              0\n",
       "company_type              0\n",
       "last_new_job              0\n",
       "training_hours            0\n",
       "target                    0\n",
       "dtype: int64"
      ]
     },
     "execution_count": 5,
     "metadata": {},
     "output_type": "execute_result"
    }
   ],
   "source": [
    "train_data = data_preprocess(train_data)\n",
    "train_data.isnull().sum()"
   ]
  },
  {
   "cell_type": "markdown",
   "id": "d45f90f6-f2f2-4b8b-a18a-76e86b12a54a",
   "metadata": {},
   "source": [
    "## 2. Сравнительные эксперименты\n",
    "\n",
    "Эксперименты проводились при следующих возможных комбинациях алгоритмов, метрик и оптимизацией:\n",
    "- Алгоритмы бустинга: GradientBoosting в sklearn, XGBoost, LightGBM, CatBoost\n",
    "- Метрики: AUC-ROC, Accuracy, F1\n",
    "- Оптимизации: Baseline(без оптимизации), GridSearchCV, RandomizedSearchCV\n",
    "\n",
    "Всего 4 * 3 * 3 = 36 экспериментов"
   ]
  },
  {
   "cell_type": "code",
   "execution_count": 6,
   "id": "da26c07e-df34-46c8-bcc0-bf0f074086f9",
   "metadata": {},
   "outputs": [],
   "source": [
    "X = train_data.drop(['target'], axis = 1).values\n",
    "y = train_data['target'].values\n",
    "\n",
    "X_train, X_val, y_train, y_val = train_test_split(X, y, test_size=0.3, random_state=80)\n",
    "\n",
    "scores_total, train_time_total, pred_time_total = [], [], []"
   ]
  },
  {
   "cell_type": "markdown",
   "id": "b8791e7c-b9ec-48de-8bbe-81f010a7c026",
   "metadata": {},
   "source": [
    "Сравнения проводятся не только по качествам моделей (значениям метрик), ну и по времени."
   ]
  },
  {
   "cell_type": "code",
   "execution_count": 7,
   "id": "4015c930-d520-4f97-947e-ab3484789e94",
   "metadata": {},
   "outputs": [],
   "source": [
    "def baseline_train(clf, metric, X_train, y_train, X_val, y_val):\n",
    "    # train\n",
    "    start = time.time()\n",
    "    model = clf.fit(X_train, y_train)\n",
    "    end = time.time()\n",
    "    print(f'Training time: {end-start} s')\n",
    "    training_times.append(end - start)\n",
    "    \n",
    "    # predict\n",
    "    start = time.time()\n",
    "    if metric=='auc': scores.append(roc_auc_score(y_val, model.predict_proba(X_val)[:, 1]))\n",
    "    elif metric=='accuracy': scores.append(accuracy_score(y_val, model.predict(X_val)))\n",
    "    elif metric=='f1': scores.append(f1_score(y_val, model.predict(X_val)))\n",
    "    else: print('metric not existed.')\n",
    "    end = time.time()\n",
    "    prediction_times.append(end - start)\n",
    "    print(f'Prediction time: {end-start} s\\n')\n",
    "    return model"
   ]
  },
  {
   "cell_type": "code",
   "execution_count": 8,
   "id": "20d35444-ca8f-46c7-a06b-22946770ac12",
   "metadata": {},
   "outputs": [],
   "source": [
    "def gridsearch_train(clf, params, metric, X_train, y_train, X_val, y_val):\n",
    "    # train\n",
    "    start = time.time()\n",
    "    if metric=='auc': model = GridSearchCV(clf, params, scoring='roc_auc', n_jobs=-1, cv=5).fit(X_train,y_train).best_estimator_\n",
    "    elif metric=='accuracy': model = GridSearchCV(clf, params, scoring='accuracy', n_jobs=-1, cv=5).fit(X_train,y_train).best_estimator_\n",
    "    elif metric=='f1': model = GridSearchCV(clf, params, scoring='f1', n_jobs=-1, cv=5).fit(X_train,y_train).best_estimator_\n",
    "    else: print('metric not existed.')\n",
    "    end = time.time()\n",
    "    print(f'Training time: {end-start} s')\n",
    "    training_times.append(end - start)\n",
    "    \n",
    "    # predict\n",
    "    start = time.time()\n",
    "    if metric=='auc': scores.append(roc_auc_score(y_val, model.predict_proba(X_val)[:, 1]))\n",
    "    elif metric=='accuracy': scores.append(accuracy_score(y_val, model.predict(X_val)))\n",
    "    elif metric=='f1': scores.append(f1_score(y_val, model.predict(X_val)))\n",
    "    else: print('metric not existed.')\n",
    "    end = time.time()\n",
    "    prediction_times.append(end - start)\n",
    "    print(f'Prediction time: {end-start} s\\n')\n",
    "    return model"
   ]
  },
  {
   "cell_type": "code",
   "execution_count": 9,
   "id": "d21b4efb-dcfc-4906-b519-d52f05a130c3",
   "metadata": {},
   "outputs": [],
   "source": [
    "def random_grid_search_train(clf, params, n_iter, metric, X_train, y_train, X_val, y_val):\n",
    "    # train\n",
    "    start = time.time()\n",
    "    if metric=='auc': \n",
    "        model = RandomizedSearchCV(clf, params, n_iter, scoring='roc_auc', n_jobs=-1, cv=5).fit(X_train,y_train).best_estimator_\n",
    "    elif metric=='accuracy': \n",
    "        model = RandomizedSearchCV(clf, params, n_iter, scoring='accuracy', n_jobs=-1, cv=5).fit(X_train,y_train).best_estimator_\n",
    "    elif metric=='f1': \n",
    "        model = RandomizedSearchCV(clf, params, n_iter, scoring='f1', n_jobs=-1, cv=5).fit(X_train,y_train).best_estimator_\n",
    "    else: print('metric not existed.')\n",
    "    end = time.time()\n",
    "    print(f'Training time: {end-start} s')\n",
    "    training_times.append(end - start)\n",
    "    \n",
    "    # predict\n",
    "    start = time.time()\n",
    "    if metric=='auc': scores.append(roc_auc_score(y_val, model.predict_proba(X_val)[:, 1]))\n",
    "    elif metric=='accuracy': scores.append(accuracy_score(y_val, model.predict(X_val)))\n",
    "    elif metric=='f1': scores.append(f1_score(y_val, model.predict(X_val)))\n",
    "    else: print('metric not existed.')\n",
    "    end = time.time()\n",
    "    prediction_times.append(end - start)\n",
    "    print(f'Prediction time: {end-start} s\\n')\n",
    "    return model"
   ]
  },
  {
   "cell_type": "code",
   "execution_count": 10,
   "id": "8cddd9ac-6987-411b-9802-f21830f761b7",
   "metadata": {},
   "outputs": [],
   "source": [
    "def plot_metric(model_scores, compare_mode):\n",
    "    # Set figure size\n",
    "    rcParams['figure.figsize'] = 15,5\n",
    "    color = ['r']*4 + ['g']*4 + ['b']*4\n",
    "    plt.bar(model_scores['Model'], height = model_scores[compare_mode], color = color)\n",
    "    xlocs = [i for i in range(0,len(model_scores))]\n",
    "    xlabs = model_scores['Model']\n",
    "    if(compare_mode != 'Prediction Times'):\n",
    "        for i, v in enumerate(model_scores[compare_mode]):\n",
    "            plt.text(xlocs[i] - 0.25, v * 1.01, str(v))\n",
    "    plt.xlabel('Model')\n",
    "    plt.ylabel(compare_mode)\n",
    "    plt.xticks(xlocs, xlabs, rotation = 60)\n",
    "    plt.ylim(model_scores[compare_mode].min()* 0.8, (model_scores[compare_mode].max()* 1.1))\n",
    "    plt.show()"
   ]
  },
  {
   "cell_type": "markdown",
   "id": "2146f8bd-28fa-469f-ad65-3d0ae318d4b1",
   "metadata": {},
   "source": [
    "### Метрика 1: AUC-ROC"
   ]
  },
  {
   "cell_type": "code",
   "execution_count": 11,
   "id": "dd42cf91-d761-4e94-b6ce-e17fd8988b32",
   "metadata": {},
   "outputs": [],
   "source": [
    "prediction_times = []\n",
    "training_times = []\n",
    "scores = []"
   ]
  },
  {
   "cell_type": "markdown",
   "id": "de584ca6-519a-4d9e-8c14-66102a9a5d58",
   "metadata": {},
   "source": [
    "#### Модели \"из коробки\""
   ]
  },
  {
   "cell_type": "code",
   "execution_count": 12,
   "id": "11be10bf-90df-43a8-8556-771342b16655",
   "metadata": {},
   "outputs": [
    {
     "name": "stdout",
     "output_type": "stream",
     "text": [
      "Training time: 0.5988187789916992 s\n",
      "Prediction time: 0.010004997253417969 s\n",
      "\n"
     ]
    }
   ],
   "source": [
    "gboost = baseline_train(GradientBoostingClassifier(n_estimators=50, max_depth=5), 'auc', X_train, y_train, X_val, y_val)"
   ]
  },
  {
   "cell_type": "code",
   "execution_count": 13,
   "id": "efb121b8-877b-4e4c-b24a-7acf2f6cd6b5",
   "metadata": {},
   "outputs": [
    {
     "name": "stdout",
     "output_type": "stream",
     "text": [
      "[01:34:00] WARNING: ..\\src\\learner.cc:1061: Starting in XGBoost 1.3.0, the default evaluation metric used with the objective 'binary:logistic' was changed from 'error' to 'logloss'. Explicitly set eval_metric if you'd like to restore the old behavior.\n",
      "Training time: 0.13690543174743652 s\n",
      "Prediction time: 0.011001348495483398 s\n",
      "\n"
     ]
    }
   ],
   "source": [
    "xgboost = baseline_train(xgb.XGBClassifier(n_estimators=50, max_depth=5), 'auc', X_train, y_train, X_val, y_val)"
   ]
  },
  {
   "cell_type": "code",
   "execution_count": 14,
   "id": "15087a2d-c373-4699-9127-6c8aed0d5fb6",
   "metadata": {},
   "outputs": [
    {
     "name": "stdout",
     "output_type": "stream",
     "text": [
      "Training time: 0.08130264282226562 s\n",
      "Prediction time: 0.01665949821472168 s\n",
      "\n"
     ]
    }
   ],
   "source": [
    "lightgbm = baseline_train(lgbm.LGBMClassifier(n_estimators=50, max_depth=5), 'auc', X_train, y_train, X_val, y_val)"
   ]
  },
  {
   "cell_type": "code",
   "execution_count": 15,
   "id": "10b11d45-c9b7-49ab-bc1a-0e9ebe2dfdfa",
   "metadata": {},
   "outputs": [
    {
     "name": "stdout",
     "output_type": "stream",
     "text": [
      "Training time: 0.44601964950561523 s\n",
      "Prediction time: 0.02139568328857422 s\n",
      "\n"
     ]
    }
   ],
   "source": [
    "catboost = baseline_train(cb.CatBoostClassifier(n_estimators=50, verbose=False, max_depth=5), 'auc', X_train, y_train, X_val, y_val)"
   ]
  },
  {
   "cell_type": "code",
   "execution_count": 16,
   "id": "5ed02a20-8efc-4656-9ea5-d87257c0d5d3",
   "metadata": {},
   "outputs": [
    {
     "data": {
      "text/plain": [
       "[0.8087533751228402,\n",
       " 0.8062956178263732,\n",
       " 0.8089881628200603,\n",
       " 0.8114158660191519]"
      ]
     },
     "execution_count": 16,
     "metadata": {},
     "output_type": "execute_result"
    }
   ],
   "source": [
    "scores"
   ]
  },
  {
   "cell_type": "markdown",
   "id": "97891234-0801-4da7-8a35-8907a50f751f",
   "metadata": {},
   "source": [
    "#### GridSearchCV"
   ]
  },
  {
   "cell_type": "code",
   "execution_count": 17,
   "id": "4623a5a8-8978-45cc-95ab-ad1d144a34e0",
   "metadata": {},
   "outputs": [],
   "source": [
    "param_grid=[{'max_depth': [5,7,9,11],\n",
    "           'n_estimators':[50,70,90,110],\n",
    "           'learning_rate':[0.05,0.1,0.15,0.2]}]"
   ]
  },
  {
   "cell_type": "code",
   "execution_count": 18,
   "id": "f0da3a9f-2fd0-46f2-bb22-7ea8a340810d",
   "metadata": {},
   "outputs": [
    {
     "name": "stdout",
     "output_type": "stream",
     "text": [
      "Training time: 121.58501839637756 s\n",
      "Prediction time: 0.013994216918945312 s\n",
      "\n"
     ]
    }
   ],
   "source": [
    "gboost_grid = gridsearch_train(GradientBoostingClassifier(), param_grid, 'auc', X_train, y_train, X_val, y_val)"
   ]
  },
  {
   "cell_type": "code",
   "execution_count": 19,
   "id": "e23a515e-91c1-49e6-a585-e80620534158",
   "metadata": {
    "tags": []
   },
   "outputs": [
    {
     "name": "stdout",
     "output_type": "stream",
     "text": [
      "[01:37:03] WARNING: ..\\src\\learner.cc:1061: Starting in XGBoost 1.3.0, the default evaluation metric used with the objective 'binary:logistic' was changed from 'error' to 'logloss'. Explicitly set eval_metric if you'd like to restore the old behavior.\n",
      "Training time: 61.380704164505005 s\n",
      "Prediction time: 0.010073661804199219 s\n",
      "\n"
     ]
    }
   ],
   "source": [
    "xgboost_grid = gridsearch_train(xgb.XGBClassifier(), param_grid, 'auc', X_train, y_train, X_val, y_val)"
   ]
  },
  {
   "cell_type": "code",
   "execution_count": 20,
   "id": "85ef9be0-1a19-4e86-ae8e-28beecb9abbc",
   "metadata": {},
   "outputs": [
    {
     "name": "stdout",
     "output_type": "stream",
     "text": [
      "Training time: 18.30624794960022 s\n",
      "Prediction time: 0.01492929458618164 s\n",
      "\n"
     ]
    }
   ],
   "source": [
    "lightgbm_grid = gridsearch_train(lgbm.LGBMClassifier(), param_grid, 'auc', X_train, y_train, X_val, y_val)"
   ]
  },
  {
   "cell_type": "code",
   "execution_count": 21,
   "id": "d1d1a891-46a6-42a4-8d52-803309ff51e1",
   "metadata": {},
   "outputs": [
    {
     "name": "stdout",
     "output_type": "stream",
     "text": [
      "0:\tlearn: 0.6546705\ttotal: 4.05ms\tremaining: 360ms\n",
      "1:\tlearn: 0.6239018\ttotal: 7.61ms\tremaining: 335ms\n",
      "2:\tlearn: 0.5966049\ttotal: 11.1ms\tremaining: 322ms\n",
      "3:\tlearn: 0.5742351\ttotal: 14.5ms\tremaining: 311ms\n",
      "4:\tlearn: 0.5544654\ttotal: 18ms\tremaining: 306ms\n",
      "5:\tlearn: 0.5379807\ttotal: 21.5ms\tremaining: 301ms\n",
      "6:\tlearn: 0.5238295\ttotal: 25ms\tremaining: 297ms\n",
      "7:\tlearn: 0.5117141\ttotal: 28.4ms\tremaining: 291ms\n",
      "8:\tlearn: 0.5013823\ttotal: 31.7ms\tremaining: 285ms\n",
      "9:\tlearn: 0.4931489\ttotal: 34.9ms\tremaining: 279ms\n",
      "10:\tlearn: 0.4854643\ttotal: 38.4ms\tremaining: 276ms\n",
      "11:\tlearn: 0.4788151\ttotal: 42ms\tremaining: 273ms\n",
      "12:\tlearn: 0.4729560\ttotal: 59.3ms\tremaining: 351ms\n",
      "13:\tlearn: 0.4673453\ttotal: 62.7ms\tremaining: 340ms\n",
      "14:\tlearn: 0.4632604\ttotal: 66.1ms\tremaining: 330ms\n",
      "15:\tlearn: 0.4591162\ttotal: 69.5ms\tremaining: 321ms\n",
      "16:\tlearn: 0.4556396\ttotal: 72.9ms\tremaining: 313ms\n",
      "17:\tlearn: 0.4529407\ttotal: 76.7ms\tremaining: 307ms\n",
      "18:\tlearn: 0.4498928\ttotal: 79.9ms\tremaining: 299ms\n",
      "19:\tlearn: 0.4471963\ttotal: 83.3ms\tremaining: 291ms\n",
      "20:\tlearn: 0.4448212\ttotal: 86.6ms\tremaining: 284ms\n",
      "21:\tlearn: 0.4434299\ttotal: 89.8ms\tremaining: 278ms\n",
      "22:\tlearn: 0.4419889\ttotal: 93.1ms\tremaining: 271ms\n",
      "23:\tlearn: 0.4405005\ttotal: 96.5ms\tremaining: 265ms\n",
      "24:\tlearn: 0.4395270\ttotal: 99.9ms\tremaining: 260ms\n",
      "25:\tlearn: 0.4381772\ttotal: 104ms\tremaining: 255ms\n",
      "26:\tlearn: 0.4373288\ttotal: 107ms\tremaining: 249ms\n",
      "27:\tlearn: 0.4363985\ttotal: 110ms\tremaining: 244ms\n",
      "28:\tlearn: 0.4353080\ttotal: 113ms\tremaining: 238ms\n",
      "29:\tlearn: 0.4347441\ttotal: 117ms\tremaining: 233ms\n",
      "30:\tlearn: 0.4341028\ttotal: 120ms\tremaining: 228ms\n",
      "31:\tlearn: 0.4333496\ttotal: 123ms\tremaining: 224ms\n",
      "32:\tlearn: 0.4324692\ttotal: 127ms\tremaining: 219ms\n",
      "33:\tlearn: 0.4317211\ttotal: 130ms\tremaining: 214ms\n",
      "34:\tlearn: 0.4312813\ttotal: 133ms\tremaining: 209ms\n",
      "35:\tlearn: 0.4304342\ttotal: 136ms\tremaining: 205ms\n",
      "36:\tlearn: 0.4297307\ttotal: 139ms\tremaining: 200ms\n",
      "37:\tlearn: 0.4292369\ttotal: 142ms\tremaining: 195ms\n",
      "38:\tlearn: 0.4288690\ttotal: 145ms\tremaining: 190ms\n",
      "39:\tlearn: 0.4284105\ttotal: 149ms\tremaining: 186ms\n",
      "40:\tlearn: 0.4277443\ttotal: 152ms\tremaining: 182ms\n",
      "41:\tlearn: 0.4274506\ttotal: 155ms\tremaining: 177ms\n",
      "42:\tlearn: 0.4268977\ttotal: 159ms\tremaining: 173ms\n",
      "43:\tlearn: 0.4264592\ttotal: 162ms\tremaining: 169ms\n",
      "44:\tlearn: 0.4263999\ttotal: 164ms\tremaining: 164ms\n",
      "45:\tlearn: 0.4256419\ttotal: 167ms\tremaining: 160ms\n",
      "46:\tlearn: 0.4251856\ttotal: 170ms\tremaining: 156ms\n",
      "47:\tlearn: 0.4246457\ttotal: 173ms\tremaining: 152ms\n",
      "48:\tlearn: 0.4242564\ttotal: 177ms\tremaining: 148ms\n",
      "49:\tlearn: 0.4239044\ttotal: 180ms\tremaining: 144ms\n",
      "50:\tlearn: 0.4235519\ttotal: 183ms\tremaining: 140ms\n",
      "51:\tlearn: 0.4232070\ttotal: 188ms\tremaining: 137ms\n",
      "52:\tlearn: 0.4227675\ttotal: 191ms\tremaining: 133ms\n",
      "53:\tlearn: 0.4227334\ttotal: 193ms\tremaining: 129ms\n",
      "54:\tlearn: 0.4225063\ttotal: 197ms\tremaining: 125ms\n",
      "55:\tlearn: 0.4219583\ttotal: 201ms\tremaining: 122ms\n",
      "56:\tlearn: 0.4214740\ttotal: 204ms\tremaining: 118ms\n",
      "57:\tlearn: 0.4210739\ttotal: 207ms\tremaining: 114ms\n",
      "58:\tlearn: 0.4208523\ttotal: 210ms\tremaining: 111ms\n",
      "59:\tlearn: 0.4206249\ttotal: 214ms\tremaining: 107ms\n",
      "60:\tlearn: 0.4204055\ttotal: 217ms\tremaining: 103ms\n",
      "61:\tlearn: 0.4201513\ttotal: 221ms\tremaining: 99.6ms\n",
      "62:\tlearn: 0.4199764\ttotal: 225ms\tremaining: 96.4ms\n",
      "63:\tlearn: 0.4196460\ttotal: 229ms\tremaining: 93ms\n",
      "64:\tlearn: 0.4194690\ttotal: 234ms\tremaining: 89.8ms\n",
      "65:\tlearn: 0.4192887\ttotal: 238ms\tremaining: 86.6ms\n",
      "66:\tlearn: 0.4191084\ttotal: 242ms\tremaining: 83ms\n",
      "67:\tlearn: 0.4188514\ttotal: 246ms\tremaining: 79.7ms\n",
      "68:\tlearn: 0.4186263\ttotal: 251ms\tremaining: 76.5ms\n",
      "69:\tlearn: 0.4182780\ttotal: 254ms\tremaining: 72.7ms\n",
      "70:\tlearn: 0.4179330\ttotal: 258ms\tremaining: 69ms\n",
      "71:\tlearn: 0.4177602\ttotal: 262ms\tremaining: 65.4ms\n",
      "72:\tlearn: 0.4175157\ttotal: 265ms\tremaining: 61.7ms\n",
      "73:\tlearn: 0.4172798\ttotal: 268ms\tremaining: 57.9ms\n",
      "74:\tlearn: 0.4169682\ttotal: 271ms\tremaining: 54.2ms\n",
      "75:\tlearn: 0.4165915\ttotal: 274ms\tremaining: 50.5ms\n",
      "76:\tlearn: 0.4163228\ttotal: 278ms\tremaining: 46.9ms\n",
      "77:\tlearn: 0.4159970\ttotal: 281ms\tremaining: 43.2ms\n",
      "78:\tlearn: 0.4158084\ttotal: 284ms\tremaining: 39.5ms\n",
      "79:\tlearn: 0.4155451\ttotal: 287ms\tremaining: 35.8ms\n",
      "80:\tlearn: 0.4153433\ttotal: 290ms\tremaining: 32.2ms\n",
      "81:\tlearn: 0.4150759\ttotal: 294ms\tremaining: 28.6ms\n",
      "82:\tlearn: 0.4147883\ttotal: 297ms\tremaining: 25ms\n",
      "83:\tlearn: 0.4146469\ttotal: 300ms\tremaining: 21.4ms\n",
      "84:\tlearn: 0.4143599\ttotal: 303ms\tremaining: 17.8ms\n",
      "85:\tlearn: 0.4142218\ttotal: 306ms\tremaining: 14.2ms\n",
      "86:\tlearn: 0.4141020\ttotal: 309ms\tremaining: 10.7ms\n",
      "87:\tlearn: 0.4135885\ttotal: 313ms\tremaining: 7.1ms\n",
      "88:\tlearn: 0.4133059\ttotal: 316ms\tremaining: 3.55ms\n",
      "89:\tlearn: 0.4129123\ttotal: 319ms\tremaining: 0us\n",
      "Training time: 80.01659035682678 s\n",
      "Prediction time: 0.023600101470947266 s\n",
      "\n"
     ]
    }
   ],
   "source": [
    "catboost_grid = gridsearch_train(cb.CatBoostClassifier(), param_grid, 'auc', X_train, y_train, X_val, y_val)"
   ]
  },
  {
   "cell_type": "code",
   "execution_count": 22,
   "id": "dae17565-92fc-405c-98ed-f3ba69be3507",
   "metadata": {},
   "outputs": [
    {
     "data": {
      "text/plain": [
       "[0.8087533751228402,\n",
       " 0.8062956178263732,\n",
       " 0.8089881628200603,\n",
       " 0.8114158660191519,\n",
       " 0.8088821783973057,\n",
       " 0.8090790406859331,\n",
       " 0.8073272366450086,\n",
       " 0.809138751339713]"
      ]
     },
     "execution_count": 22,
     "metadata": {},
     "output_type": "execute_result"
    }
   ],
   "source": [
    "scores"
   ]
  },
  {
   "cell_type": "markdown",
   "id": "831a5d71-30e2-49ca-9494-cc66cad0fcce",
   "metadata": {},
   "source": [
    "#### RandomizedSearchCV"
   ]
  },
  {
   "cell_type": "code",
   "execution_count": 23,
   "id": "fb9d2f49-7685-463e-b368-39ef4ef3778e",
   "metadata": {},
   "outputs": [],
   "source": [
    "param_dist = {\n",
    "        'n_estimators':range(20,200,5),\n",
    "        'max_depth':range(2,15,1),\n",
    "        'learning_rate':np.linspace(0.01,2,20),\n",
    "        'subsample':np.linspace(0.7,0.9,20),\n",
    "        'colsample_bytree':np.linspace(0.5,0.98,10),\n",
    "        'min_child_weight':range(1,9,1)\n",
    "        }"
   ]
  },
  {
   "cell_type": "code",
   "execution_count": 24,
   "id": "ee090f65-3b37-4948-a1e5-6f4ac24cc97c",
   "metadata": {},
   "outputs": [
    {
     "name": "stdout",
     "output_type": "stream",
     "text": [
      "Training time: 15.969151973724365 s\n",
      "Prediction time: 0.014994382858276367 s\n",
      "\n"
     ]
    }
   ],
   "source": [
    "gboost_rd_grid = random_grid_search_train(GradientBoostingClassifier(), param_grid, 10, 'auc', X_train, y_train, X_val, y_val)"
   ]
  },
  {
   "cell_type": "code",
   "execution_count": 25,
   "id": "a7241164-2e32-4578-ade3-db57923e4af0",
   "metadata": {},
   "outputs": [
    {
     "name": "stdout",
     "output_type": "stream",
     "text": [
      "[01:39:10] WARNING: ..\\src\\learner.cc:1061: Starting in XGBoost 1.3.0, the default evaluation metric used with the objective 'binary:logistic' was changed from 'error' to 'logloss'. Explicitly set eval_metric if you'd like to restore the old behavior.\n",
      "Training time: 11.665217161178589 s\n",
      "Prediction time: 0.009937524795532227 s\n",
      "\n"
     ]
    }
   ],
   "source": [
    "xgboost_rd_grid = random_grid_search_train(xgb.XGBClassifier(), param_grid, 10, 'auc', X_train, y_train, X_val, y_val)"
   ]
  },
  {
   "cell_type": "code",
   "execution_count": 26,
   "id": "ad5165bb-7cee-4012-b25e-543fd93bb51e",
   "metadata": {},
   "outputs": [
    {
     "name": "stdout",
     "output_type": "stream",
     "text": [
      "Training time: 2.825047492980957 s\n",
      "Prediction time: 0.010999917984008789 s\n",
      "\n"
     ]
    }
   ],
   "source": [
    "lightgbm_rd_grid = random_grid_search_train(lgbm.LGBMClassifier(), param_grid, 10, 'auc', X_train, y_train, X_val, y_val)"
   ]
  },
  {
   "cell_type": "code",
   "execution_count": 27,
   "id": "3a92c95f-b051-4fc2-9f88-53fbaf74ca3d",
   "metadata": {},
   "outputs": [
    {
     "name": "stdout",
     "output_type": "stream",
     "text": [
      "0:\tlearn: 0.6359238\ttotal: 2.73ms\tremaining: 189ms\n",
      "1:\tlearn: 0.5928030\ttotal: 6.21ms\tremaining: 211ms\n",
      "2:\tlearn: 0.5600778\ttotal: 9.84ms\tremaining: 220ms\n",
      "3:\tlearn: 0.5347018\ttotal: 12.4ms\tremaining: 205ms\n",
      "4:\tlearn: 0.5156334\ttotal: 15ms\tremaining: 195ms\n",
      "5:\tlearn: 0.5009543\ttotal: 19.2ms\tremaining: 204ms\n",
      "6:\tlearn: 0.4889307\ttotal: 22.9ms\tremaining: 206ms\n",
      "7:\tlearn: 0.4799438\ttotal: 25.2ms\tremaining: 195ms\n",
      "8:\tlearn: 0.4719640\ttotal: 28ms\tremaining: 190ms\n",
      "9:\tlearn: 0.4659790\ttotal: 32.1ms\tremaining: 193ms\n",
      "10:\tlearn: 0.4613568\ttotal: 35ms\tremaining: 188ms\n",
      "11:\tlearn: 0.4572324\ttotal: 37.2ms\tremaining: 180ms\n",
      "12:\tlearn: 0.4535768\ttotal: 39.7ms\tremaining: 174ms\n",
      "13:\tlearn: 0.4515556\ttotal: 44.2ms\tremaining: 177ms\n",
      "14:\tlearn: 0.4485693\ttotal: 48ms\tremaining: 176ms\n",
      "15:\tlearn: 0.4468770\ttotal: 51.5ms\tremaining: 174ms\n",
      "16:\tlearn: 0.4457066\ttotal: 56ms\tremaining: 175ms\n",
      "17:\tlearn: 0.4445356\ttotal: 59.2ms\tremaining: 171ms\n",
      "18:\tlearn: 0.4423502\ttotal: 63.8ms\tremaining: 171ms\n",
      "19:\tlearn: 0.4410940\ttotal: 68.3ms\tremaining: 171ms\n",
      "20:\tlearn: 0.4405179\ttotal: 72.6ms\tremaining: 169ms\n",
      "21:\tlearn: 0.4398216\ttotal: 77.2ms\tremaining: 168ms\n",
      "22:\tlearn: 0.4389451\ttotal: 79.7ms\tremaining: 163ms\n",
      "23:\tlearn: 0.4380340\ttotal: 83.7ms\tremaining: 160ms\n",
      "24:\tlearn: 0.4376795\ttotal: 87.4ms\tremaining: 157ms\n",
      "25:\tlearn: 0.4373048\ttotal: 91.3ms\tremaining: 155ms\n",
      "26:\tlearn: 0.4365483\ttotal: 95.8ms\tremaining: 153ms\n",
      "27:\tlearn: 0.4360580\ttotal: 100ms\tremaining: 151ms\n",
      "28:\tlearn: 0.4357753\ttotal: 104ms\tremaining: 146ms\n",
      "29:\tlearn: 0.4353082\ttotal: 107ms\tremaining: 142ms\n",
      "30:\tlearn: 0.4342734\ttotal: 111ms\tremaining: 140ms\n",
      "31:\tlearn: 0.4334267\ttotal: 115ms\tremaining: 137ms\n",
      "32:\tlearn: 0.4332199\ttotal: 120ms\tremaining: 134ms\n",
      "33:\tlearn: 0.4329715\ttotal: 123ms\tremaining: 131ms\n",
      "34:\tlearn: 0.4323948\ttotal: 128ms\tremaining: 128ms\n",
      "35:\tlearn: 0.4321265\ttotal: 132ms\tremaining: 125ms\n",
      "36:\tlearn: 0.4318934\ttotal: 137ms\tremaining: 122ms\n",
      "37:\tlearn: 0.4314680\ttotal: 141ms\tremaining: 119ms\n",
      "38:\tlearn: 0.4313013\ttotal: 146ms\tremaining: 116ms\n",
      "39:\tlearn: 0.4310113\ttotal: 149ms\tremaining: 112ms\n",
      "40:\tlearn: 0.4307858\ttotal: 153ms\tremaining: 109ms\n",
      "41:\tlearn: 0.4305322\ttotal: 158ms\tremaining: 105ms\n",
      "42:\tlearn: 0.4303860\ttotal: 162ms\tremaining: 102ms\n",
      "43:\tlearn: 0.4301222\ttotal: 165ms\tremaining: 97.7ms\n",
      "44:\tlearn: 0.4298505\ttotal: 170ms\tremaining: 94.3ms\n",
      "45:\tlearn: 0.4295828\ttotal: 174ms\tremaining: 90.9ms\n",
      "46:\tlearn: 0.4292650\ttotal: 179ms\tremaining: 87.5ms\n",
      "47:\tlearn: 0.4287131\ttotal: 181ms\tremaining: 83.1ms\n",
      "48:\tlearn: 0.4285586\ttotal: 184ms\tremaining: 79ms\n",
      "49:\tlearn: 0.4283786\ttotal: 187ms\tremaining: 74.9ms\n",
      "50:\tlearn: 0.4280205\ttotal: 190ms\tremaining: 70.9ms\n",
      "51:\tlearn: 0.4278368\ttotal: 193ms\tremaining: 66.8ms\n",
      "52:\tlearn: 0.4274981\ttotal: 196ms\tremaining: 62.9ms\n",
      "53:\tlearn: 0.4271338\ttotal: 199ms\tremaining: 59.1ms\n",
      "54:\tlearn: 0.4268523\ttotal: 202ms\tremaining: 55.1ms\n",
      "55:\tlearn: 0.4265877\ttotal: 205ms\tremaining: 51.3ms\n",
      "56:\tlearn: 0.4263432\ttotal: 208ms\tremaining: 47.4ms\n",
      "57:\tlearn: 0.4259917\ttotal: 211ms\tremaining: 43.6ms\n",
      "58:\tlearn: 0.4257231\ttotal: 214ms\tremaining: 39.9ms\n",
      "59:\tlearn: 0.4254840\ttotal: 217ms\tremaining: 36.1ms\n",
      "60:\tlearn: 0.4252725\ttotal: 219ms\tremaining: 32.3ms\n",
      "61:\tlearn: 0.4249948\ttotal: 224ms\tremaining: 28.9ms\n",
      "62:\tlearn: 0.4247366\ttotal: 227ms\tremaining: 25.2ms\n",
      "63:\tlearn: 0.4244900\ttotal: 232ms\tremaining: 21.7ms\n",
      "64:\tlearn: 0.4241339\ttotal: 234ms\tremaining: 18ms\n",
      "65:\tlearn: 0.4239208\ttotal: 236ms\tremaining: 14.3ms\n",
      "66:\tlearn: 0.4236097\ttotal: 239ms\tremaining: 10.7ms\n",
      "67:\tlearn: 0.4234664\ttotal: 241ms\tremaining: 7.07ms\n",
      "68:\tlearn: 0.4233076\ttotal: 243ms\tremaining: 3.52ms\n",
      "69:\tlearn: 0.4230467\ttotal: 245ms\tremaining: 0us\n",
      "Training time: 11.070831060409546 s\n",
      "Prediction time: 0.03211545944213867 s\n",
      "\n"
     ]
    }
   ],
   "source": [
    "catboost_rd_grid = random_grid_search_train(cb.CatBoostClassifier(), param_grid, 10, 'auc', X_train, y_train, X_val, y_val)"
   ]
  },
  {
   "cell_type": "code",
   "execution_count": 28,
   "id": "21a6ac24-8387-46fb-90fd-692b7daeff23",
   "metadata": {},
   "outputs": [
    {
     "data": {
      "text/plain": [
       "[0.8087533751228402,\n",
       " 0.8062956178263732,\n",
       " 0.8089881628200603,\n",
       " 0.8114158660191519,\n",
       " 0.8088821783973057,\n",
       " 0.8090790406859331,\n",
       " 0.8073272366450086,\n",
       " 0.809138751339713,\n",
       " 0.8083836620202078,\n",
       " 0.8090790406859331,\n",
       " 0.8108391930872396,\n",
       " 0.8095369283758385]"
      ]
     },
     "execution_count": 28,
     "metadata": {},
     "output_type": "execute_result"
    }
   ],
   "source": [
    "scores"
   ]
  },
  {
   "cell_type": "code",
   "execution_count": 29,
   "id": "48ec03b8-e657-4520-84c3-2b1f306f566e",
   "metadata": {},
   "outputs": [],
   "source": [
    "scores_total.append(scores)\n",
    "train_time_total.append(training_times)\n",
    "pred_time_total.append(prediction_times)"
   ]
  },
  {
   "cell_type": "markdown",
   "id": "4bdb6060-d1e4-40c1-9f76-550dd6141884",
   "metadata": {},
   "source": [
    "### Метрика 2: Accuracy"
   ]
  },
  {
   "cell_type": "code",
   "execution_count": 30,
   "id": "789a5958-3087-491b-a45c-94e9d13b73bf",
   "metadata": {},
   "outputs": [],
   "source": [
    "prediction_times = []\n",
    "training_times = []\n",
    "scores = []"
   ]
  },
  {
   "cell_type": "markdown",
   "id": "f1a91958-78f2-4e00-85f3-7ae68e853569",
   "metadata": {},
   "source": [
    "#### Модели \"из коробки\""
   ]
  },
  {
   "cell_type": "code",
   "execution_count": 31,
   "id": "214d237a-47f5-4f91-9a1a-d55d7a8413e2",
   "metadata": {
    "tags": []
   },
   "outputs": [
    {
     "name": "stdout",
     "output_type": "stream",
     "text": [
      "Training time: 0.9220468997955322 s\n",
      "Prediction time: 0.01100015640258789 s\n",
      "\n"
     ]
    }
   ],
   "source": [
    "gboost = baseline_train(GradientBoostingClassifier(n_estimators=50, max_depth=5), 'accuracy', X_train, y_train, X_val, y_val)"
   ]
  },
  {
   "cell_type": "code",
   "execution_count": 32,
   "id": "e595363f-c9d1-413e-895f-87f4562e4345",
   "metadata": {},
   "outputs": [
    {
     "name": "stdout",
     "output_type": "stream",
     "text": [
      "[01:39:25] WARNING: ..\\src\\learner.cc:1061: Starting in XGBoost 1.3.0, the default evaluation metric used with the objective 'binary:logistic' was changed from 'error' to 'logloss'. Explicitly set eval_metric if you'd like to restore the old behavior.\n",
      "Training time: 0.1437368392944336 s\n",
      "Prediction time: 0.007189512252807617 s\n",
      "\n"
     ]
    }
   ],
   "source": [
    "xgboost = baseline_train(xgb.XGBClassifier(n_estimators=50, max_depth=5), 'accuracy', X_train, y_train, X_val, y_val)"
   ]
  },
  {
   "cell_type": "code",
   "execution_count": 33,
   "id": "8d0219f3-fd68-4e89-8064-907ee05d0b2f",
   "metadata": {},
   "outputs": [
    {
     "name": "stdout",
     "output_type": "stream",
     "text": [
      "Training time: 0.06803417205810547 s\n",
      "Prediction time: 0.009971857070922852 s\n",
      "\n"
     ]
    }
   ],
   "source": [
    "lightgbm = baseline_train(lgbm.LGBMClassifier(n_estimators=50, max_depth=5), 'accuracy', X_train, y_train, X_val, y_val)"
   ]
  },
  {
   "cell_type": "code",
   "execution_count": 34,
   "id": "61cf240f-1a98-4b43-9a8a-69a9475cc4d8",
   "metadata": {},
   "outputs": [
    {
     "name": "stdout",
     "output_type": "stream",
     "text": [
      "Training time: 0.19809985160827637 s\n",
      "Prediction time: 0.01401066780090332 s\n",
      "\n"
     ]
    }
   ],
   "source": [
    "catboost = baseline_train(cb.CatBoostClassifier(n_estimators=50, verbose=False, max_depth=5), 'accuracy', X_train, y_train, X_val, y_val)"
   ]
  },
  {
   "cell_type": "code",
   "execution_count": 35,
   "id": "0fffc999-61b7-4a3d-8d34-bb0b481e37a6",
   "metadata": {},
   "outputs": [
    {
     "data": {
      "text/plain": [
       "[0.7929714683368128,\n",
       " 0.7929714683368128,\n",
       " 0.7941892832289492,\n",
       " 0.7931454418928323]"
      ]
     },
     "execution_count": 35,
     "metadata": {},
     "output_type": "execute_result"
    }
   ],
   "source": [
    "scores"
   ]
  },
  {
   "cell_type": "markdown",
   "id": "d631c945-1a23-4c57-b5fb-261805ae8fc1",
   "metadata": {},
   "source": [
    "#### GridSearchCV"
   ]
  },
  {
   "cell_type": "code",
   "execution_count": 36,
   "id": "45f98a64-037b-4769-9a9b-90fa6ef1f58d",
   "metadata": {},
   "outputs": [],
   "source": [
    "param_grid=[{'max_depth': [5,7,9,11],\n",
    "           'n_estimators':[50,70,90,110],\n",
    "           'learning_rate':[0.05,0.1,0.15,0.2]}]"
   ]
  },
  {
   "cell_type": "code",
   "execution_count": 37,
   "id": "b4e8022a-6bf0-41a9-83a1-1397057e4801",
   "metadata": {},
   "outputs": [
    {
     "name": "stdout",
     "output_type": "stream",
     "text": [
      "Training time: 131.64442014694214 s\n",
      "Prediction time: 0.021999359130859375 s\n",
      "\n"
     ]
    }
   ],
   "source": [
    "gboost_grid = gridsearch_train(GradientBoostingClassifier(), param_grid, 'accuracy', X_train, y_train, X_val, y_val)"
   ]
  },
  {
   "cell_type": "code",
   "execution_count": 38,
   "id": "9644c198-8eb4-4a94-bf1a-27c269fe4de4",
   "metadata": {},
   "outputs": [
    {
     "name": "stdout",
     "output_type": "stream",
     "text": [
      "[01:42:38] WARNING: ..\\src\\learner.cc:1061: Starting in XGBoost 1.3.0, the default evaluation metric used with the objective 'binary:logistic' was changed from 'error' to 'logloss'. Explicitly set eval_metric if you'd like to restore the old behavior.\n",
      "Training time: 61.01879930496216 s\n",
      "Prediction time: 0.00909566879272461 s\n",
      "\n"
     ]
    }
   ],
   "source": [
    "xgboost_grid = gridsearch_train(xgb.XGBClassifier(), param_grid, 'accuracy', X_train, y_train, X_val, y_val)"
   ]
  },
  {
   "cell_type": "code",
   "execution_count": 39,
   "id": "80a49eec-3c40-4d85-8e5d-5bd804f277ae",
   "metadata": {},
   "outputs": [
    {
     "name": "stdout",
     "output_type": "stream",
     "text": [
      "Training time: 18.02492594718933 s\n",
      "Prediction time: 0.009000301361083984 s\n",
      "\n"
     ]
    }
   ],
   "source": [
    "lightgbm_grid = gridsearch_train(lgbm.LGBMClassifier(), param_grid, 'accuracy', X_train, y_train, X_val, y_val)"
   ]
  },
  {
   "cell_type": "code",
   "execution_count": 40,
   "id": "30b6c30b-80b8-4a5e-8a21-bf0dc43263bc",
   "metadata": {},
   "outputs": [
    {
     "name": "stdout",
     "output_type": "stream",
     "text": [
      "0:\tlearn: 0.6546705\ttotal: 3.91ms\tremaining: 426ms\n",
      "1:\tlearn: 0.6239018\ttotal: 8.51ms\tremaining: 460ms\n",
      "2:\tlearn: 0.5966049\ttotal: 13.8ms\tremaining: 491ms\n",
      "3:\tlearn: 0.5742351\ttotal: 18.1ms\tremaining: 480ms\n",
      "4:\tlearn: 0.5544654\ttotal: 21ms\tremaining: 442ms\n",
      "5:\tlearn: 0.5379807\ttotal: 24.2ms\tremaining: 419ms\n",
      "6:\tlearn: 0.5238295\ttotal: 27.4ms\tremaining: 403ms\n",
      "7:\tlearn: 0.5117141\ttotal: 30.3ms\tremaining: 386ms\n",
      "8:\tlearn: 0.5013823\ttotal: 33.2ms\tremaining: 372ms\n",
      "9:\tlearn: 0.4931489\ttotal: 36.3ms\tremaining: 363ms\n",
      "10:\tlearn: 0.4854643\ttotal: 39.4ms\tremaining: 354ms\n",
      "11:\tlearn: 0.4788151\ttotal: 42.4ms\tremaining: 346ms\n",
      "12:\tlearn: 0.4729560\ttotal: 45.3ms\tremaining: 338ms\n",
      "13:\tlearn: 0.4673453\ttotal: 48.2ms\tremaining: 331ms\n",
      "14:\tlearn: 0.4632604\ttotal: 50.9ms\tremaining: 322ms\n",
      "15:\tlearn: 0.4591162\ttotal: 53.8ms\tremaining: 316ms\n",
      "16:\tlearn: 0.4556396\ttotal: 56.6ms\tremaining: 309ms\n",
      "17:\tlearn: 0.4529407\ttotal: 59.4ms\tremaining: 304ms\n",
      "18:\tlearn: 0.4498928\ttotal: 62.3ms\tremaining: 298ms\n",
      "19:\tlearn: 0.4471963\ttotal: 65.4ms\tremaining: 294ms\n",
      "20:\tlearn: 0.4448212\ttotal: 68.5ms\tremaining: 290ms\n",
      "21:\tlearn: 0.4434299\ttotal: 71.2ms\tremaining: 285ms\n",
      "22:\tlearn: 0.4419889\ttotal: 74.2ms\tremaining: 281ms\n",
      "23:\tlearn: 0.4405005\ttotal: 78ms\tremaining: 280ms\n",
      "24:\tlearn: 0.4395270\ttotal: 80.6ms\tremaining: 274ms\n",
      "25:\tlearn: 0.4381772\ttotal: 83.9ms\tremaining: 271ms\n",
      "26:\tlearn: 0.4373288\ttotal: 88ms\tremaining: 270ms\n",
      "27:\tlearn: 0.4363985\ttotal: 90.8ms\tremaining: 266ms\n",
      "28:\tlearn: 0.4353080\ttotal: 93.7ms\tremaining: 262ms\n",
      "29:\tlearn: 0.4347441\ttotal: 96.5ms\tremaining: 257ms\n",
      "30:\tlearn: 0.4341028\ttotal: 99.7ms\tremaining: 254ms\n",
      "31:\tlearn: 0.4333496\ttotal: 102ms\tremaining: 250ms\n",
      "32:\tlearn: 0.4324692\ttotal: 106ms\tremaining: 246ms\n",
      "33:\tlearn: 0.4317211\ttotal: 109ms\tremaining: 243ms\n",
      "34:\tlearn: 0.4312813\ttotal: 112ms\tremaining: 240ms\n",
      "35:\tlearn: 0.4304342\ttotal: 115ms\tremaining: 237ms\n",
      "36:\tlearn: 0.4297307\ttotal: 119ms\tremaining: 235ms\n",
      "37:\tlearn: 0.4292369\ttotal: 122ms\tremaining: 232ms\n",
      "38:\tlearn: 0.4288690\ttotal: 126ms\tremaining: 229ms\n",
      "39:\tlearn: 0.4284105\ttotal: 129ms\tremaining: 225ms\n",
      "40:\tlearn: 0.4277443\ttotal: 132ms\tremaining: 222ms\n",
      "41:\tlearn: 0.4274506\ttotal: 135ms\tremaining: 218ms\n",
      "42:\tlearn: 0.4268977\ttotal: 138ms\tremaining: 215ms\n",
      "43:\tlearn: 0.4264592\ttotal: 141ms\tremaining: 211ms\n",
      "44:\tlearn: 0.4263999\ttotal: 143ms\tremaining: 206ms\n",
      "45:\tlearn: 0.4256419\ttotal: 145ms\tremaining: 202ms\n",
      "46:\tlearn: 0.4251856\ttotal: 149ms\tremaining: 199ms\n",
      "47:\tlearn: 0.4246457\ttotal: 152ms\tremaining: 196ms\n",
      "48:\tlearn: 0.4242564\ttotal: 155ms\tremaining: 193ms\n",
      "49:\tlearn: 0.4239044\ttotal: 157ms\tremaining: 189ms\n",
      "50:\tlearn: 0.4235519\ttotal: 160ms\tremaining: 185ms\n",
      "51:\tlearn: 0.4232070\ttotal: 163ms\tremaining: 182ms\n",
      "52:\tlearn: 0.4227675\ttotal: 166ms\tremaining: 179ms\n",
      "53:\tlearn: 0.4227334\ttotal: 168ms\tremaining: 175ms\n",
      "54:\tlearn: 0.4225063\ttotal: 171ms\tremaining: 171ms\n",
      "55:\tlearn: 0.4219583\ttotal: 174ms\tremaining: 168ms\n",
      "56:\tlearn: 0.4214740\ttotal: 177ms\tremaining: 165ms\n",
      "57:\tlearn: 0.4210739\ttotal: 180ms\tremaining: 162ms\n",
      "58:\tlearn: 0.4208523\ttotal: 183ms\tremaining: 158ms\n",
      "59:\tlearn: 0.4206249\ttotal: 186ms\tremaining: 155ms\n",
      "60:\tlearn: 0.4204055\ttotal: 189ms\tremaining: 152ms\n",
      "61:\tlearn: 0.4201513\ttotal: 193ms\tremaining: 149ms\n",
      "62:\tlearn: 0.4199764\ttotal: 196ms\tremaining: 146ms\n",
      "63:\tlearn: 0.4196460\ttotal: 199ms\tremaining: 143ms\n",
      "64:\tlearn: 0.4194690\ttotal: 203ms\tremaining: 140ms\n",
      "65:\tlearn: 0.4192887\ttotal: 206ms\tremaining: 137ms\n",
      "66:\tlearn: 0.4191084\ttotal: 209ms\tremaining: 134ms\n",
      "67:\tlearn: 0.4188514\ttotal: 212ms\tremaining: 131ms\n",
      "68:\tlearn: 0.4186263\ttotal: 215ms\tremaining: 128ms\n",
      "69:\tlearn: 0.4182780\ttotal: 218ms\tremaining: 125ms\n",
      "70:\tlearn: 0.4179330\ttotal: 222ms\tremaining: 122ms\n",
      "71:\tlearn: 0.4177602\ttotal: 226ms\tremaining: 119ms\n",
      "72:\tlearn: 0.4175157\ttotal: 232ms\tremaining: 117ms\n",
      "73:\tlearn: 0.4172798\ttotal: 234ms\tremaining: 114ms\n",
      "74:\tlearn: 0.4169682\ttotal: 237ms\tremaining: 111ms\n",
      "75:\tlearn: 0.4165915\ttotal: 240ms\tremaining: 107ms\n",
      "76:\tlearn: 0.4163228\ttotal: 243ms\tremaining: 104ms\n",
      "77:\tlearn: 0.4159970\ttotal: 246ms\tremaining: 101ms\n",
      "78:\tlearn: 0.4158084\ttotal: 250ms\tremaining: 97.9ms\n",
      "79:\tlearn: 0.4155451\ttotal: 253ms\tremaining: 94.7ms\n",
      "80:\tlearn: 0.4153433\ttotal: 256ms\tremaining: 91.5ms\n",
      "81:\tlearn: 0.4150759\ttotal: 258ms\tremaining: 88.2ms\n",
      "82:\tlearn: 0.4147883\ttotal: 262ms\tremaining: 85.1ms\n",
      "83:\tlearn: 0.4146469\ttotal: 265ms\tremaining: 81.9ms\n",
      "84:\tlearn: 0.4143599\ttotal: 267ms\tremaining: 78.6ms\n",
      "85:\tlearn: 0.4142218\ttotal: 270ms\tremaining: 75.4ms\n",
      "86:\tlearn: 0.4141020\ttotal: 273ms\tremaining: 72.2ms\n",
      "87:\tlearn: 0.4135885\ttotal: 276ms\tremaining: 69ms\n",
      "88:\tlearn: 0.4133059\ttotal: 279ms\tremaining: 65.8ms\n",
      "89:\tlearn: 0.4129123\ttotal: 282ms\tremaining: 62.7ms\n",
      "90:\tlearn: 0.4126083\ttotal: 285ms\tremaining: 59.5ms\n",
      "91:\tlearn: 0.4123730\ttotal: 288ms\tremaining: 56.3ms\n",
      "92:\tlearn: 0.4120088\ttotal: 291ms\tremaining: 53.2ms\n",
      "93:\tlearn: 0.4117923\ttotal: 294ms\tremaining: 50ms\n",
      "94:\tlearn: 0.4114502\ttotal: 297ms\tremaining: 46.8ms\n",
      "95:\tlearn: 0.4112157\ttotal: 300ms\tremaining: 43.7ms\n",
      "96:\tlearn: 0.4110451\ttotal: 303ms\tremaining: 40.6ms\n",
      "97:\tlearn: 0.4108072\ttotal: 306ms\tremaining: 37.4ms\n",
      "98:\tlearn: 0.4106400\ttotal: 309ms\tremaining: 34.3ms\n",
      "99:\tlearn: 0.4105551\ttotal: 311ms\tremaining: 31.1ms\n",
      "100:\tlearn: 0.4102579\ttotal: 314ms\tremaining: 28ms\n",
      "101:\tlearn: 0.4098543\ttotal: 317ms\tremaining: 24.9ms\n",
      "102:\tlearn: 0.4095918\ttotal: 320ms\tremaining: 21.8ms\n",
      "103:\tlearn: 0.4094217\ttotal: 324ms\tremaining: 18.7ms\n",
      "104:\tlearn: 0.4092056\ttotal: 327ms\tremaining: 15.6ms\n",
      "105:\tlearn: 0.4090213\ttotal: 330ms\tremaining: 12.4ms\n",
      "106:\tlearn: 0.4086865\ttotal: 333ms\tremaining: 9.33ms\n",
      "107:\tlearn: 0.4084509\ttotal: 336ms\tremaining: 6.22ms\n",
      "108:\tlearn: 0.4082537\ttotal: 339ms\tremaining: 3.11ms\n",
      "109:\tlearn: 0.4080666\ttotal: 342ms\tremaining: 0us\n",
      "Training time: 68.23803353309631 s\n",
      "Prediction time: 0.027184009552001953 s\n",
      "\n"
     ]
    }
   ],
   "source": [
    "catboost_grid = gridsearch_train(cb.CatBoostClassifier(), param_grid, 'accuracy', X_train, y_train, X_val, y_val)"
   ]
  },
  {
   "cell_type": "code",
   "execution_count": 41,
   "id": "c4e2234b-6935-4191-947e-3bf96538b3bd",
   "metadata": {},
   "outputs": [
    {
     "data": {
      "text/plain": [
       "[0.7929714683368128,\n",
       " 0.7929714683368128,\n",
       " 0.7941892832289492,\n",
       " 0.7931454418928323,\n",
       " 0.7947112038970077,\n",
       " 0.7978427279053584,\n",
       " 0.7988865692414753,\n",
       " 0.7924495476687543]"
      ]
     },
     "execution_count": 41,
     "metadata": {},
     "output_type": "execute_result"
    }
   ],
   "source": [
    "scores"
   ]
  },
  {
   "cell_type": "markdown",
   "id": "34494193-bff6-455b-b6c7-01407e79ec5a",
   "metadata": {},
   "source": [
    "#### RandomizedSearchCV"
   ]
  },
  {
   "cell_type": "code",
   "execution_count": 42,
   "id": "d5cc9ed0-07b4-4bb8-b10c-79bd8d0a35de",
   "metadata": {},
   "outputs": [],
   "source": [
    "param_dist = {\n",
    "        'n_estimators':range(20,200,5),\n",
    "        'max_depth':range(2,15,1),\n",
    "        'learning_rate':np.linspace(0.01,2,20),\n",
    "        'subsample':np.linspace(0.7,0.9,20),\n",
    "        'colsample_bytree':np.linspace(0.5,0.98,10),\n",
    "        'min_child_weight':range(1,9,1)\n",
    "        }"
   ]
  },
  {
   "cell_type": "code",
   "execution_count": 43,
   "id": "58325ee9-0afc-4f3c-967f-38a4fd9861b3",
   "metadata": {},
   "outputs": [
    {
     "name": "stdout",
     "output_type": "stream",
     "text": [
      "Training time: 24.45642924308777 s\n",
      "Prediction time: 0.02613973617553711 s\n",
      "\n"
     ]
    }
   ],
   "source": [
    "gboost_rd_grid = random_grid_search_train(GradientBoostingClassifier(), param_grid, 10, 'accuracy', X_train, y_train, X_val, y_val)"
   ]
  },
  {
   "cell_type": "code",
   "execution_count": 44,
   "id": "3af65368-f211-4892-9de1-ddd0189a8ea7",
   "metadata": {},
   "outputs": [
    {
     "name": "stdout",
     "output_type": "stream",
     "text": [
      "[01:44:40] WARNING: ..\\src\\learner.cc:1061: Starting in XGBoost 1.3.0, the default evaluation metric used with the objective 'binary:logistic' was changed from 'error' to 'logloss'. Explicitly set eval_metric if you'd like to restore the old behavior.\n",
      "Training time: 11.058544397354126 s\n",
      "Prediction time: 0.006657600402832031 s\n",
      "\n"
     ]
    }
   ],
   "source": [
    "xgboost_rd_grid = random_grid_search_train(xgb.XGBClassifier(), param_grid, 10, 'accuracy', X_train, y_train, X_val, y_val)"
   ]
  },
  {
   "cell_type": "code",
   "execution_count": 45,
   "id": "69502672-461d-4a0b-86bd-1ab6682e5733",
   "metadata": {},
   "outputs": [
    {
     "name": "stdout",
     "output_type": "stream",
     "text": [
      "Training time: 2.9047939777374268 s\n",
      "Prediction time: 0.007548809051513672 s\n",
      "\n"
     ]
    }
   ],
   "source": [
    "lightgbm_rd_grid = random_grid_search_train(lgbm.LGBMClassifier(), param_grid, 10, 'accuracy', X_train, y_train, X_val, y_val)"
   ]
  },
  {
   "cell_type": "code",
   "execution_count": 46,
   "id": "509c1c0a-2d39-4ede-beda-b47658d4a796",
   "metadata": {},
   "outputs": [
    {
     "name": "stdout",
     "output_type": "stream",
     "text": [
      "0:\tlearn: 0.6544167\ttotal: 4.73ms\tremaining: 326ms\n",
      "1:\tlearn: 0.6235724\ttotal: 9.47ms\tremaining: 322ms\n",
      "2:\tlearn: 0.5971158\ttotal: 16.9ms\tremaining: 377ms\n",
      "3:\tlearn: 0.5741791\ttotal: 21.8ms\tremaining: 359ms\n",
      "4:\tlearn: 0.5547808\ttotal: 25.5ms\tremaining: 332ms\n",
      "5:\tlearn: 0.5378187\ttotal: 35.6ms\tremaining: 380ms\n",
      "6:\tlearn: 0.5237197\ttotal: 41.1ms\tremaining: 370ms\n",
      "7:\tlearn: 0.5114195\ttotal: 51.2ms\tremaining: 397ms\n",
      "8:\tlearn: 0.5010992\ttotal: 61.3ms\tremaining: 415ms\n",
      "9:\tlearn: 0.4936219\ttotal: 65.7ms\tremaining: 394ms\n",
      "10:\tlearn: 0.4859110\ttotal: 73.9ms\tremaining: 397ms\n",
      "11:\tlearn: 0.4797300\ttotal: 78.7ms\tremaining: 380ms\n",
      "12:\tlearn: 0.4741115\ttotal: 88.2ms\tremaining: 387ms\n",
      "13:\tlearn: 0.4685333\ttotal: 99.4ms\tremaining: 398ms\n",
      "14:\tlearn: 0.4636107\ttotal: 109ms\tremaining: 398ms\n",
      "15:\tlearn: 0.4590606\ttotal: 118ms\tremaining: 399ms\n",
      "16:\tlearn: 0.4547387\ttotal: 128ms\tremaining: 399ms\n",
      "17:\tlearn: 0.4511998\ttotal: 137ms\tremaining: 397ms\n",
      "18:\tlearn: 0.4486522\ttotal: 145ms\tremaining: 389ms\n",
      "19:\tlearn: 0.4459346\ttotal: 153ms\tremaining: 383ms\n",
      "20:\tlearn: 0.4430837\ttotal: 161ms\tremaining: 375ms\n",
      "21:\tlearn: 0.4406363\ttotal: 172ms\tremaining: 374ms\n",
      "22:\tlearn: 0.4389407\ttotal: 181ms\tremaining: 370ms\n",
      "23:\tlearn: 0.4372535\ttotal: 190ms\tremaining: 364ms\n",
      "24:\tlearn: 0.4356320\ttotal: 199ms\tremaining: 358ms\n",
      "25:\tlearn: 0.4338144\ttotal: 208ms\tremaining: 351ms\n",
      "26:\tlearn: 0.4321568\ttotal: 217ms\tremaining: 345ms\n",
      "27:\tlearn: 0.4307864\ttotal: 225ms\tremaining: 337ms\n",
      "28:\tlearn: 0.4297274\ttotal: 232ms\tremaining: 327ms\n",
      "29:\tlearn: 0.4282778\ttotal: 242ms\tremaining: 323ms\n",
      "30:\tlearn: 0.4274073\ttotal: 252ms\tremaining: 317ms\n",
      "31:\tlearn: 0.4262452\ttotal: 262ms\tremaining: 311ms\n",
      "32:\tlearn: 0.4252471\ttotal: 271ms\tremaining: 304ms\n",
      "33:\tlearn: 0.4244020\ttotal: 281ms\tremaining: 297ms\n",
      "34:\tlearn: 0.4234689\ttotal: 291ms\tremaining: 291ms\n",
      "35:\tlearn: 0.4226480\ttotal: 299ms\tremaining: 282ms\n",
      "36:\tlearn: 0.4220882\ttotal: 308ms\tremaining: 275ms\n",
      "37:\tlearn: 0.4215142\ttotal: 318ms\tremaining: 268ms\n",
      "38:\tlearn: 0.4205489\ttotal: 329ms\tremaining: 261ms\n",
      "39:\tlearn: 0.4196870\ttotal: 339ms\tremaining: 254ms\n",
      "40:\tlearn: 0.4190732\ttotal: 348ms\tremaining: 246ms\n",
      "41:\tlearn: 0.4184370\ttotal: 358ms\tremaining: 239ms\n",
      "42:\tlearn: 0.4175802\ttotal: 368ms\tremaining: 231ms\n",
      "43:\tlearn: 0.4170499\ttotal: 376ms\tremaining: 222ms\n",
      "44:\tlearn: 0.4164826\ttotal: 387ms\tremaining: 215ms\n",
      "45:\tlearn: 0.4158038\ttotal: 397ms\tremaining: 207ms\n",
      "46:\tlearn: 0.4153400\ttotal: 405ms\tremaining: 198ms\n",
      "47:\tlearn: 0.4148015\ttotal: 415ms\tremaining: 190ms\n",
      "48:\tlearn: 0.4143700\ttotal: 423ms\tremaining: 181ms\n",
      "49:\tlearn: 0.4141265\ttotal: 432ms\tremaining: 173ms\n",
      "50:\tlearn: 0.4134698\ttotal: 442ms\tremaining: 165ms\n",
      "51:\tlearn: 0.4129660\ttotal: 452ms\tremaining: 157ms\n",
      "52:\tlearn: 0.4122134\ttotal: 462ms\tremaining: 148ms\n",
      "53:\tlearn: 0.4117235\ttotal: 471ms\tremaining: 140ms\n",
      "54:\tlearn: 0.4114249\ttotal: 481ms\tremaining: 131ms\n",
      "55:\tlearn: 0.4110740\ttotal: 490ms\tremaining: 123ms\n",
      "56:\tlearn: 0.4108085\ttotal: 500ms\tremaining: 114ms\n",
      "57:\tlearn: 0.4101300\ttotal: 510ms\tremaining: 105ms\n",
      "58:\tlearn: 0.4096010\ttotal: 520ms\tremaining: 96.9ms\n",
      "59:\tlearn: 0.4089763\ttotal: 529ms\tremaining: 88.2ms\n",
      "60:\tlearn: 0.4085432\ttotal: 539ms\tremaining: 79.5ms\n",
      "61:\tlearn: 0.4082182\ttotal: 548ms\tremaining: 70.8ms\n",
      "62:\tlearn: 0.4075153\ttotal: 558ms\tremaining: 62ms\n",
      "63:\tlearn: 0.4072791\ttotal: 567ms\tremaining: 53.2ms\n",
      "64:\tlearn: 0.4068622\ttotal: 575ms\tremaining: 44.2ms\n",
      "65:\tlearn: 0.4062917\ttotal: 583ms\tremaining: 35.4ms\n",
      "66:\tlearn: 0.4057196\ttotal: 590ms\tremaining: 26.4ms\n",
      "67:\tlearn: 0.4050242\ttotal: 599ms\tremaining: 17.6ms\n",
      "68:\tlearn: 0.4046527\ttotal: 608ms\tremaining: 8.81ms\n",
      "69:\tlearn: 0.4043788\ttotal: 613ms\tremaining: 0us\n",
      "Training time: 15.671895265579224 s\n",
      "Prediction time: 0.03448820114135742 s\n",
      "\n"
     ]
    }
   ],
   "source": [
    "catboost_rd_grid = random_grid_search_train(cb.CatBoostClassifier(), param_grid, 10, 'accuracy', X_train, y_train, X_val, y_val)"
   ]
  },
  {
   "cell_type": "code",
   "execution_count": 47,
   "id": "9eebec6e-8bee-4b05-b948-3d005d3c405d",
   "metadata": {},
   "outputs": [
    {
     "data": {
      "text/plain": [
       "[0.7929714683368128,\n",
       " 0.7929714683368128,\n",
       " 0.7941892832289492,\n",
       " 0.7931454418928323,\n",
       " 0.7947112038970077,\n",
       " 0.7978427279053584,\n",
       " 0.7988865692414753,\n",
       " 0.7924495476687543,\n",
       " 0.7929714683368128,\n",
       " 0.7954070981210856,\n",
       " 0.7997564370215727,\n",
       " 0.791579679888657]"
      ]
     },
     "execution_count": 47,
     "metadata": {},
     "output_type": "execute_result"
    }
   ],
   "source": [
    "scores"
   ]
  },
  {
   "cell_type": "code",
   "execution_count": 48,
   "id": "f7392c45-cec6-42bb-9421-d48b765a6d4e",
   "metadata": {},
   "outputs": [],
   "source": [
    "scores_total.append(scores)\n",
    "train_time_total.append(training_times)\n",
    "pred_time_total.append(prediction_times)"
   ]
  },
  {
   "cell_type": "markdown",
   "id": "58d07908-75c4-435b-916d-51463021a13e",
   "metadata": {},
   "source": [
    "### Метрика 3: F1"
   ]
  },
  {
   "cell_type": "code",
   "execution_count": 49,
   "id": "b41ccf8e-0002-42ae-9291-33fc2ebeffd9",
   "metadata": {},
   "outputs": [],
   "source": [
    "prediction_times = []\n",
    "training_times = []\n",
    "scores = []"
   ]
  },
  {
   "cell_type": "markdown",
   "id": "972900a8-27e5-4c3a-9d7e-c71e8ae44ff4",
   "metadata": {},
   "source": [
    "#### Модели \"из коробки\""
   ]
  },
  {
   "cell_type": "code",
   "execution_count": 50,
   "id": "23aa6552-0b3b-4b1b-ac60-a80b25831793",
   "metadata": {},
   "outputs": [
    {
     "name": "stdout",
     "output_type": "stream",
     "text": [
      "Training time: 0.8944616317749023 s\n",
      "Prediction time: 0.013007879257202148 s\n",
      "\n"
     ]
    }
   ],
   "source": [
    "gboost = baseline_train(GradientBoostingClassifier(n_estimators=50, max_depth=5), 'f1', X_train, y_train, X_val, y_val)"
   ]
  },
  {
   "cell_type": "code",
   "execution_count": 51,
   "id": "8eee75fd-3cc8-406e-ae83-3c00b5f70c38",
   "metadata": {},
   "outputs": [
    {
     "name": "stdout",
     "output_type": "stream",
     "text": [
      "[01:45:00] WARNING: ..\\src\\learner.cc:1061: Starting in XGBoost 1.3.0, the default evaluation metric used with the objective 'binary:logistic' was changed from 'error' to 'logloss'. Explicitly set eval_metric if you'd like to restore the old behavior.\n",
      "Training time: 0.13332819938659668 s\n",
      "Prediction time: 0.00899958610534668 s\n",
      "\n"
     ]
    }
   ],
   "source": [
    "xgboost = baseline_train(xgb.XGBClassifier(n_estimators=50, max_depth=5), 'f1', X_train, y_train, X_val, y_val)"
   ]
  },
  {
   "cell_type": "code",
   "execution_count": 52,
   "id": "144f1a15-4b77-42df-b28a-3f96f80dd75e",
   "metadata": {},
   "outputs": [
    {
     "name": "stdout",
     "output_type": "stream",
     "text": [
      "Training time: 0.05919241905212402 s\n",
      "Prediction time: 0.014328479766845703 s\n",
      "\n"
     ]
    }
   ],
   "source": [
    "lightgbm = baseline_train(lgbm.LGBMClassifier(n_estimators=50, max_depth=5), 'f1', X_train, y_train, X_val, y_val)"
   ]
  },
  {
   "cell_type": "code",
   "execution_count": 53,
   "id": "f6dd88e2-547b-4c03-b011-d647dd5e06c1",
   "metadata": {},
   "outputs": [
    {
     "name": "stdout",
     "output_type": "stream",
     "text": [
      "Training time: 0.18987536430358887 s\n",
      "Prediction time: 0.01802349090576172 s\n",
      "\n"
     ]
    }
   ],
   "source": [
    "catboost = baseline_train(cb.CatBoostClassifier(n_estimators=50, verbose=False, max_depth=5), 'f1', X_train, y_train, X_val, y_val)"
   ]
  },
  {
   "cell_type": "code",
   "execution_count": 54,
   "id": "3d7284b9-9cd0-4549-9bae-cdcfeeb87e8e",
   "metadata": {},
   "outputs": [
    {
     "data": {
      "text/plain": [
       "[0.5833333333333334,\n",
       " 0.5792079207920792,\n",
       " 0.5876612059951202,\n",
       " 0.5758116303960042]"
      ]
     },
     "execution_count": 54,
     "metadata": {},
     "output_type": "execute_result"
    }
   ],
   "source": [
    "scores"
   ]
  },
  {
   "cell_type": "markdown",
   "id": "37dbfb77-d010-4a8c-ae2c-1e5965a1ae91",
   "metadata": {},
   "source": [
    "#### GridSearchCV"
   ]
  },
  {
   "cell_type": "code",
   "execution_count": 55,
   "id": "9e2fbac7-a8d7-430d-86b9-8b4a31b63b68",
   "metadata": {},
   "outputs": [],
   "source": [
    "param_grid=[{'max_depth': [5,7,9,11],\n",
    "           'n_estimators':[50,70,90,110],\n",
    "           'learning_rate':[0.05,0.1,0.15,0.2]}]"
   ]
  },
  {
   "cell_type": "code",
   "execution_count": 56,
   "id": "067bce91-cf67-4340-934d-d85f9b0dfbc0",
   "metadata": {},
   "outputs": [
    {
     "name": "stdout",
     "output_type": "stream",
     "text": [
      "Training time: 128.25801706314087 s\n",
      "Prediction time: 0.02993297576904297 s\n",
      "\n"
     ]
    }
   ],
   "source": [
    "gboost_grid = gridsearch_train(GradientBoostingClassifier(), param_grid, 'f1', X_train, y_train, X_val, y_val)"
   ]
  },
  {
   "cell_type": "code",
   "execution_count": 57,
   "id": "3f110c20-90f5-4bea-9e48-8efabc3a4063",
   "metadata": {},
   "outputs": [
    {
     "name": "stdout",
     "output_type": "stream",
     "text": [
      "[01:48:09] WARNING: ..\\src\\learner.cc:1061: Starting in XGBoost 1.3.0, the default evaluation metric used with the objective 'binary:logistic' was changed from 'error' to 'logloss'. Explicitly set eval_metric if you'd like to restore the old behavior.\n",
      "Training time: 61.169029235839844 s\n",
      "Prediction time: 0.010545492172241211 s\n",
      "\n"
     ]
    }
   ],
   "source": [
    "xgboost_grid = gridsearch_train(xgb.XGBClassifier(), param_grid, 'f1', X_train, y_train, X_val, y_val)"
   ]
  },
  {
   "cell_type": "code",
   "execution_count": 58,
   "id": "64a85d4f-524f-40fe-b87f-d61c8e3d851b",
   "metadata": {},
   "outputs": [
    {
     "name": "stdout",
     "output_type": "stream",
     "text": [
      "Training time: 18.498300552368164 s\n",
      "Prediction time: 0.01334524154663086 s\n",
      "\n"
     ]
    }
   ],
   "source": [
    "lightgbm_grid = gridsearch_train(lgbm.LGBMClassifier(), param_grid, 'f1', X_train, y_train, X_val, y_val)"
   ]
  },
  {
   "cell_type": "code",
   "execution_count": 59,
   "id": "015449ff-c958-43f5-a0f7-95b75a1118ff",
   "metadata": {},
   "outputs": [
    {
     "name": "stdout",
     "output_type": "stream",
     "text": [
      "0:\tlearn: 0.6546705\ttotal: 7.09ms\tremaining: 772ms\n",
      "1:\tlearn: 0.6239018\ttotal: 11.6ms\tremaining: 626ms\n",
      "2:\tlearn: 0.5966049\ttotal: 17.3ms\tremaining: 616ms\n",
      "3:\tlearn: 0.5742351\ttotal: 21.8ms\tremaining: 578ms\n",
      "4:\tlearn: 0.5544654\ttotal: 27.1ms\tremaining: 569ms\n",
      "5:\tlearn: 0.5379807\ttotal: 31ms\tremaining: 537ms\n",
      "6:\tlearn: 0.5238295\ttotal: 34.9ms\tremaining: 514ms\n",
      "7:\tlearn: 0.5117141\ttotal: 38.2ms\tremaining: 487ms\n",
      "8:\tlearn: 0.5013823\ttotal: 41.4ms\tremaining: 465ms\n",
      "9:\tlearn: 0.4931489\ttotal: 44.9ms\tremaining: 449ms\n",
      "10:\tlearn: 0.4854643\ttotal: 48ms\tremaining: 432ms\n",
      "11:\tlearn: 0.4788151\ttotal: 51ms\tremaining: 416ms\n",
      "12:\tlearn: 0.4729560\ttotal: 55.2ms\tremaining: 412ms\n",
      "13:\tlearn: 0.4673453\ttotal: 58.4ms\tremaining: 401ms\n",
      "14:\tlearn: 0.4632604\ttotal: 61.5ms\tremaining: 389ms\n",
      "15:\tlearn: 0.4591162\ttotal: 64.5ms\tremaining: 379ms\n",
      "16:\tlearn: 0.4556396\ttotal: 67.5ms\tremaining: 369ms\n",
      "17:\tlearn: 0.4529407\ttotal: 70.6ms\tremaining: 361ms\n",
      "18:\tlearn: 0.4498928\ttotal: 73.5ms\tremaining: 352ms\n",
      "19:\tlearn: 0.4471963\ttotal: 76.4ms\tremaining: 344ms\n",
      "20:\tlearn: 0.4448212\ttotal: 79.5ms\tremaining: 337ms\n",
      "21:\tlearn: 0.4434299\ttotal: 82.8ms\tremaining: 331ms\n",
      "22:\tlearn: 0.4419889\ttotal: 86.4ms\tremaining: 327ms\n",
      "23:\tlearn: 0.4405005\ttotal: 90ms\tremaining: 323ms\n",
      "24:\tlearn: 0.4395270\ttotal: 93ms\tremaining: 316ms\n",
      "25:\tlearn: 0.4381772\ttotal: 95.8ms\tremaining: 310ms\n",
      "26:\tlearn: 0.4373288\ttotal: 99.1ms\tremaining: 305ms\n",
      "27:\tlearn: 0.4363985\ttotal: 102ms\tremaining: 300ms\n",
      "28:\tlearn: 0.4353080\ttotal: 107ms\tremaining: 298ms\n",
      "29:\tlearn: 0.4347441\ttotal: 111ms\tremaining: 296ms\n",
      "30:\tlearn: 0.4341028\ttotal: 116ms\tremaining: 295ms\n",
      "31:\tlearn: 0.4333496\ttotal: 119ms\tremaining: 290ms\n",
      "32:\tlearn: 0.4324692\ttotal: 123ms\tremaining: 286ms\n",
      "33:\tlearn: 0.4317211\ttotal: 125ms\tremaining: 280ms\n",
      "34:\tlearn: 0.4312813\ttotal: 128ms\tremaining: 275ms\n",
      "35:\tlearn: 0.4304342\ttotal: 132ms\tremaining: 272ms\n",
      "36:\tlearn: 0.4297307\ttotal: 135ms\tremaining: 267ms\n",
      "37:\tlearn: 0.4292369\ttotal: 139ms\tremaining: 264ms\n",
      "38:\tlearn: 0.4288690\ttotal: 142ms\tremaining: 259ms\n",
      "39:\tlearn: 0.4284105\ttotal: 146ms\tremaining: 255ms\n",
      "40:\tlearn: 0.4277443\ttotal: 149ms\tremaining: 250ms\n",
      "41:\tlearn: 0.4274506\ttotal: 152ms\tremaining: 246ms\n",
      "42:\tlearn: 0.4268977\ttotal: 155ms\tremaining: 242ms\n",
      "43:\tlearn: 0.4264592\ttotal: 158ms\tremaining: 237ms\n",
      "44:\tlearn: 0.4263999\ttotal: 160ms\tremaining: 231ms\n",
      "45:\tlearn: 0.4256419\ttotal: 163ms\tremaining: 226ms\n",
      "46:\tlearn: 0.4251856\ttotal: 165ms\tremaining: 222ms\n",
      "47:\tlearn: 0.4246457\ttotal: 170ms\tremaining: 220ms\n",
      "48:\tlearn: 0.4242564\ttotal: 173ms\tremaining: 216ms\n",
      "49:\tlearn: 0.4239044\ttotal: 176ms\tremaining: 212ms\n",
      "50:\tlearn: 0.4235519\ttotal: 179ms\tremaining: 207ms\n",
      "51:\tlearn: 0.4232070\ttotal: 182ms\tremaining: 203ms\n",
      "52:\tlearn: 0.4227675\ttotal: 186ms\tremaining: 200ms\n",
      "53:\tlearn: 0.4227334\ttotal: 188ms\tremaining: 195ms\n",
      "54:\tlearn: 0.4225063\ttotal: 191ms\tremaining: 191ms\n",
      "55:\tlearn: 0.4219583\ttotal: 194ms\tremaining: 187ms\n",
      "56:\tlearn: 0.4214740\ttotal: 198ms\tremaining: 184ms\n",
      "57:\tlearn: 0.4210739\ttotal: 201ms\tremaining: 181ms\n",
      "58:\tlearn: 0.4208523\ttotal: 205ms\tremaining: 177ms\n",
      "59:\tlearn: 0.4206249\ttotal: 208ms\tremaining: 173ms\n",
      "60:\tlearn: 0.4204055\ttotal: 211ms\tremaining: 170ms\n",
      "61:\tlearn: 0.4201513\ttotal: 215ms\tremaining: 166ms\n",
      "62:\tlearn: 0.4199764\ttotal: 218ms\tremaining: 163ms\n",
      "63:\tlearn: 0.4196460\ttotal: 221ms\tremaining: 159ms\n",
      "64:\tlearn: 0.4194690\ttotal: 227ms\tremaining: 157ms\n",
      "65:\tlearn: 0.4192887\ttotal: 230ms\tremaining: 154ms\n",
      "66:\tlearn: 0.4191084\ttotal: 234ms\tremaining: 150ms\n",
      "67:\tlearn: 0.4188514\ttotal: 238ms\tremaining: 147ms\n",
      "68:\tlearn: 0.4186263\ttotal: 241ms\tremaining: 143ms\n",
      "69:\tlearn: 0.4182780\ttotal: 244ms\tremaining: 139ms\n",
      "70:\tlearn: 0.4179330\ttotal: 247ms\tremaining: 136ms\n",
      "71:\tlearn: 0.4177602\ttotal: 250ms\tremaining: 132ms\n",
      "72:\tlearn: 0.4175157\ttotal: 253ms\tremaining: 128ms\n",
      "73:\tlearn: 0.4172798\ttotal: 256ms\tremaining: 124ms\n",
      "74:\tlearn: 0.4169682\ttotal: 258ms\tremaining: 121ms\n",
      "75:\tlearn: 0.4165915\ttotal: 261ms\tremaining: 117ms\n",
      "76:\tlearn: 0.4163228\ttotal: 265ms\tremaining: 114ms\n",
      "77:\tlearn: 0.4159970\ttotal: 268ms\tremaining: 110ms\n",
      "78:\tlearn: 0.4158084\ttotal: 271ms\tremaining: 106ms\n",
      "79:\tlearn: 0.4155451\ttotal: 274ms\tremaining: 103ms\n",
      "80:\tlearn: 0.4153433\ttotal: 277ms\tremaining: 99.1ms\n",
      "81:\tlearn: 0.4150759\ttotal: 280ms\tremaining: 95.5ms\n",
      "82:\tlearn: 0.4147883\ttotal: 282ms\tremaining: 91.9ms\n",
      "83:\tlearn: 0.4146469\ttotal: 285ms\tremaining: 88.3ms\n",
      "84:\tlearn: 0.4143599\ttotal: 288ms\tremaining: 84.7ms\n",
      "85:\tlearn: 0.4142218\ttotal: 291ms\tremaining: 81.2ms\n",
      "86:\tlearn: 0.4141020\ttotal: 294ms\tremaining: 77.7ms\n",
      "87:\tlearn: 0.4135885\ttotal: 297ms\tremaining: 74.3ms\n",
      "88:\tlearn: 0.4133059\ttotal: 300ms\tremaining: 70.7ms\n",
      "89:\tlearn: 0.4129123\ttotal: 303ms\tremaining: 67.3ms\n",
      "90:\tlearn: 0.4126083\ttotal: 306ms\tremaining: 63.8ms\n",
      "91:\tlearn: 0.4123730\ttotal: 309ms\tremaining: 60.4ms\n",
      "92:\tlearn: 0.4120088\ttotal: 312ms\tremaining: 56.9ms\n",
      "93:\tlearn: 0.4117923\ttotal: 314ms\tremaining: 53.5ms\n",
      "94:\tlearn: 0.4114502\ttotal: 317ms\tremaining: 50.1ms\n",
      "95:\tlearn: 0.4112157\ttotal: 320ms\tremaining: 46.6ms\n",
      "96:\tlearn: 0.4110451\ttotal: 323ms\tremaining: 43.3ms\n",
      "97:\tlearn: 0.4108072\ttotal: 326ms\tremaining: 39.9ms\n",
      "98:\tlearn: 0.4106400\ttotal: 329ms\tremaining: 36.5ms\n",
      "99:\tlearn: 0.4105551\ttotal: 332ms\tremaining: 33.2ms\n",
      "100:\tlearn: 0.4102579\ttotal: 336ms\tremaining: 30ms\n",
      "101:\tlearn: 0.4098543\ttotal: 339ms\tremaining: 26.6ms\n",
      "102:\tlearn: 0.4095918\ttotal: 342ms\tremaining: 23.3ms\n",
      "103:\tlearn: 0.4094217\ttotal: 345ms\tremaining: 19.9ms\n",
      "104:\tlearn: 0.4092056\ttotal: 348ms\tremaining: 16.6ms\n",
      "105:\tlearn: 0.4090213\ttotal: 351ms\tremaining: 13.2ms\n",
      "106:\tlearn: 0.4086865\ttotal: 354ms\tremaining: 9.92ms\n",
      "107:\tlearn: 0.4084509\ttotal: 357ms\tremaining: 6.6ms\n",
      "108:\tlearn: 0.4082537\ttotal: 360ms\tremaining: 3.3ms\n",
      "109:\tlearn: 0.4080666\ttotal: 362ms\tremaining: 0us\n",
      "Training time: 67.85534453392029 s\n",
      "Prediction time: 0.03184914588928223 s\n",
      "\n"
     ]
    }
   ],
   "source": [
    "catboost_grid = gridsearch_train(cb.CatBoostClassifier(), param_grid, 'f1', X_train, y_train, X_val, y_val)"
   ]
  },
  {
   "cell_type": "code",
   "execution_count": 60,
   "id": "0bdd1db4-ab46-4c03-bbf3-c540e973e0f7",
   "metadata": {},
   "outputs": [
    {
     "data": {
      "text/plain": [
       "[0.5833333333333334,\n",
       " 0.5792079207920792,\n",
       " 0.5876612059951202,\n",
       " 0.5758116303960042,\n",
       " 0.5848857644991213,\n",
       " 0.5972508591065292,\n",
       " 0.6097231600270089,\n",
       " 0.5771003190358029]"
      ]
     },
     "execution_count": 60,
     "metadata": {},
     "output_type": "execute_result"
    }
   ],
   "source": [
    "scores"
   ]
  },
  {
   "cell_type": "markdown",
   "id": "54ecafd7-816e-45f4-a6c4-213bf325cef9",
   "metadata": {},
   "source": [
    "#### RandomizedSearchCV"
   ]
  },
  {
   "cell_type": "code",
   "execution_count": 61,
   "id": "c7cbdfad-c239-4d77-aa54-aff012806282",
   "metadata": {},
   "outputs": [],
   "source": [
    "param_dist = {\n",
    "        'n_estimators':range(20,200,5),\n",
    "        'max_depth':range(2,15,1),\n",
    "        'learning_rate':np.linspace(0.01,2,20),\n",
    "        'subsample':np.linspace(0.7,0.9,20),\n",
    "        'colsample_bytree':np.linspace(0.5,0.98,10),\n",
    "        'min_child_weight':range(1,9,1)\n",
    "        }"
   ]
  },
  {
   "cell_type": "code",
   "execution_count": 62,
   "id": "5b1972c9-4854-4749-88cd-ea2792850228",
   "metadata": {},
   "outputs": [
    {
     "name": "stdout",
     "output_type": "stream",
     "text": [
      "Training time: 14.295135736465454 s\n",
      "Prediction time: 0.023998498916625977 s\n",
      "\n"
     ]
    }
   ],
   "source": [
    "gboost_rd_grid = random_grid_search_train(GradientBoostingClassifier(), param_grid, 10, 'f1', X_train, y_train, X_val, y_val)"
   ]
  },
  {
   "cell_type": "code",
   "execution_count": 63,
   "id": "087b9ea1-d4cb-41c0-a7df-266ae879ff62",
   "metadata": {},
   "outputs": [
    {
     "name": "stdout",
     "output_type": "stream",
     "text": [
      "[01:49:58] WARNING: ..\\src\\learner.cc:1061: Starting in XGBoost 1.3.0, the default evaluation metric used with the objective 'binary:logistic' was changed from 'error' to 'logloss'. Explicitly set eval_metric if you'd like to restore the old behavior.\n",
      "Training time: 8.363179445266724 s\n",
      "Prediction time: 0.010406732559204102 s\n",
      "\n"
     ]
    }
   ],
   "source": [
    "xgboost_rd_grid = random_grid_search_train(xgb.XGBClassifier(), param_grid, 10, 'f1', X_train, y_train, X_val, y_val)"
   ]
  },
  {
   "cell_type": "code",
   "execution_count": 64,
   "id": "1970f6de-1121-4b94-8b78-569b1545b490",
   "metadata": {},
   "outputs": [
    {
     "name": "stdout",
     "output_type": "stream",
     "text": [
      "Training time: 2.7196342945098877 s\n",
      "Prediction time: 0.010975122451782227 s\n",
      "\n"
     ]
    }
   ],
   "source": [
    "lightgbm_rd_grid = random_grid_search_train(lgbm.LGBMClassifier(), param_grid, 10, 'f1', X_train, y_train, X_val, y_val)"
   ]
  },
  {
   "cell_type": "code",
   "execution_count": 65,
   "id": "b6e9d21c-70e8-404a-9849-1f35b5e37125",
   "metadata": {},
   "outputs": [
    {
     "name": "stdout",
     "output_type": "stream",
     "text": [
      "0:\tlearn: 0.6546705\ttotal: 4.56ms\tremaining: 497ms\n",
      "1:\tlearn: 0.6239018\ttotal: 8.21ms\tremaining: 443ms\n",
      "2:\tlearn: 0.5966049\ttotal: 13.4ms\tremaining: 478ms\n",
      "3:\tlearn: 0.5742351\ttotal: 18.1ms\tremaining: 481ms\n",
      "4:\tlearn: 0.5544654\ttotal: 21.4ms\tremaining: 449ms\n",
      "5:\tlearn: 0.5379807\ttotal: 25.5ms\tremaining: 442ms\n",
      "6:\tlearn: 0.5238295\ttotal: 28.6ms\tremaining: 420ms\n",
      "7:\tlearn: 0.5117141\ttotal: 31.9ms\tremaining: 407ms\n",
      "8:\tlearn: 0.5013823\ttotal: 34.8ms\tremaining: 391ms\n",
      "9:\tlearn: 0.4931489\ttotal: 37.6ms\tremaining: 376ms\n",
      "10:\tlearn: 0.4854643\ttotal: 40.5ms\tremaining: 364ms\n",
      "11:\tlearn: 0.4788151\ttotal: 43.6ms\tremaining: 356ms\n",
      "12:\tlearn: 0.4729560\ttotal: 46.7ms\tremaining: 349ms\n",
      "13:\tlearn: 0.4673453\ttotal: 50ms\tremaining: 343ms\n",
      "14:\tlearn: 0.4632604\ttotal: 52.7ms\tremaining: 334ms\n",
      "15:\tlearn: 0.4591162\ttotal: 56.5ms\tremaining: 332ms\n",
      "16:\tlearn: 0.4556396\ttotal: 59.4ms\tremaining: 325ms\n",
      "17:\tlearn: 0.4529407\ttotal: 62.2ms\tremaining: 318ms\n",
      "18:\tlearn: 0.4498928\ttotal: 65.5ms\tremaining: 314ms\n",
      "19:\tlearn: 0.4471963\ttotal: 68.5ms\tremaining: 308ms\n",
      "20:\tlearn: 0.4448212\ttotal: 71.7ms\tremaining: 304ms\n",
      "21:\tlearn: 0.4434299\ttotal: 75.2ms\tremaining: 301ms\n",
      "22:\tlearn: 0.4419889\ttotal: 78.2ms\tremaining: 296ms\n",
      "23:\tlearn: 0.4405005\ttotal: 82.3ms\tremaining: 295ms\n",
      "24:\tlearn: 0.4395270\ttotal: 85.7ms\tremaining: 291ms\n",
      "25:\tlearn: 0.4381772\ttotal: 88.9ms\tremaining: 287ms\n",
      "26:\tlearn: 0.4373288\ttotal: 91.9ms\tremaining: 283ms\n",
      "27:\tlearn: 0.4363985\ttotal: 95ms\tremaining: 278ms\n",
      "28:\tlearn: 0.4353080\ttotal: 97.8ms\tremaining: 273ms\n",
      "29:\tlearn: 0.4347441\ttotal: 101ms\tremaining: 268ms\n",
      "30:\tlearn: 0.4341028\ttotal: 104ms\tremaining: 265ms\n",
      "31:\tlearn: 0.4333496\ttotal: 107ms\tremaining: 262ms\n",
      "32:\tlearn: 0.4324692\ttotal: 110ms\tremaining: 257ms\n",
      "33:\tlearn: 0.4317211\ttotal: 113ms\tremaining: 253ms\n",
      "34:\tlearn: 0.4312813\ttotal: 116ms\tremaining: 248ms\n",
      "35:\tlearn: 0.4304342\ttotal: 119ms\tremaining: 244ms\n",
      "36:\tlearn: 0.4297307\ttotal: 122ms\tremaining: 240ms\n",
      "37:\tlearn: 0.4292369\ttotal: 124ms\tremaining: 236ms\n",
      "38:\tlearn: 0.4288690\ttotal: 127ms\tremaining: 232ms\n",
      "39:\tlearn: 0.4284105\ttotal: 130ms\tremaining: 228ms\n",
      "40:\tlearn: 0.4277443\ttotal: 133ms\tremaining: 224ms\n",
      "41:\tlearn: 0.4274506\ttotal: 136ms\tremaining: 221ms\n",
      "42:\tlearn: 0.4268977\ttotal: 139ms\tremaining: 217ms\n",
      "43:\tlearn: 0.4264592\ttotal: 142ms\tremaining: 214ms\n",
      "44:\tlearn: 0.4263999\ttotal: 144ms\tremaining: 209ms\n",
      "45:\tlearn: 0.4256419\ttotal: 147ms\tremaining: 205ms\n",
      "46:\tlearn: 0.4251856\ttotal: 150ms\tremaining: 201ms\n",
      "47:\tlearn: 0.4246457\ttotal: 153ms\tremaining: 198ms\n",
      "48:\tlearn: 0.4242564\ttotal: 157ms\tremaining: 196ms\n",
      "49:\tlearn: 0.4239044\ttotal: 161ms\tremaining: 194ms\n",
      "50:\tlearn: 0.4235519\ttotal: 164ms\tremaining: 190ms\n",
      "51:\tlearn: 0.4232070\ttotal: 168ms\tremaining: 187ms\n",
      "52:\tlearn: 0.4227675\ttotal: 171ms\tremaining: 184ms\n",
      "53:\tlearn: 0.4227334\ttotal: 173ms\tremaining: 179ms\n",
      "54:\tlearn: 0.4225063\ttotal: 176ms\tremaining: 176ms\n",
      "55:\tlearn: 0.4219583\ttotal: 179ms\tremaining: 173ms\n",
      "56:\tlearn: 0.4214740\ttotal: 182ms\tremaining: 170ms\n",
      "57:\tlearn: 0.4210739\ttotal: 186ms\tremaining: 167ms\n",
      "58:\tlearn: 0.4208523\ttotal: 189ms\tremaining: 164ms\n",
      "59:\tlearn: 0.4206249\ttotal: 193ms\tremaining: 160ms\n",
      "60:\tlearn: 0.4204055\ttotal: 196ms\tremaining: 157ms\n",
      "61:\tlearn: 0.4201513\ttotal: 199ms\tremaining: 154ms\n",
      "62:\tlearn: 0.4199764\ttotal: 203ms\tremaining: 151ms\n",
      "63:\tlearn: 0.4196460\ttotal: 206ms\tremaining: 148ms\n",
      "64:\tlearn: 0.4194690\ttotal: 209ms\tremaining: 145ms\n",
      "65:\tlearn: 0.4192887\ttotal: 212ms\tremaining: 141ms\n",
      "66:\tlearn: 0.4191084\ttotal: 215ms\tremaining: 138ms\n",
      "67:\tlearn: 0.4188514\ttotal: 219ms\tremaining: 135ms\n",
      "68:\tlearn: 0.4186263\ttotal: 222ms\tremaining: 132ms\n",
      "69:\tlearn: 0.4182780\ttotal: 226ms\tremaining: 129ms\n",
      "70:\tlearn: 0.4179330\ttotal: 229ms\tremaining: 126ms\n",
      "71:\tlearn: 0.4177602\ttotal: 233ms\tremaining: 123ms\n",
      "72:\tlearn: 0.4175157\ttotal: 236ms\tremaining: 120ms\n",
      "73:\tlearn: 0.4172798\ttotal: 240ms\tremaining: 117ms\n",
      "74:\tlearn: 0.4169682\ttotal: 243ms\tremaining: 113ms\n",
      "75:\tlearn: 0.4165915\ttotal: 246ms\tremaining: 110ms\n",
      "76:\tlearn: 0.4163228\ttotal: 248ms\tremaining: 106ms\n",
      "77:\tlearn: 0.4159970\ttotal: 251ms\tremaining: 103ms\n",
      "78:\tlearn: 0.4158084\ttotal: 254ms\tremaining: 99.6ms\n",
      "79:\tlearn: 0.4155451\ttotal: 257ms\tremaining: 96.3ms\n",
      "80:\tlearn: 0.4153433\ttotal: 260ms\tremaining: 93ms\n",
      "81:\tlearn: 0.4150759\ttotal: 263ms\tremaining: 89.8ms\n",
      "82:\tlearn: 0.4147883\ttotal: 266ms\tremaining: 86.6ms\n",
      "83:\tlearn: 0.4146469\ttotal: 269ms\tremaining: 83.3ms\n",
      "84:\tlearn: 0.4143599\ttotal: 272ms\tremaining: 80ms\n",
      "85:\tlearn: 0.4142218\ttotal: 275ms\tremaining: 76.7ms\n",
      "86:\tlearn: 0.4141020\ttotal: 278ms\tremaining: 73.4ms\n",
      "87:\tlearn: 0.4135885\ttotal: 281ms\tremaining: 70.1ms\n",
      "88:\tlearn: 0.4133059\ttotal: 283ms\tremaining: 66.9ms\n",
      "89:\tlearn: 0.4129123\ttotal: 286ms\tremaining: 63.6ms\n",
      "90:\tlearn: 0.4126083\ttotal: 289ms\tremaining: 60.4ms\n",
      "91:\tlearn: 0.4123730\ttotal: 292ms\tremaining: 57.1ms\n",
      "92:\tlearn: 0.4120088\ttotal: 295ms\tremaining: 53.9ms\n",
      "93:\tlearn: 0.4117923\ttotal: 298ms\tremaining: 50.7ms\n",
      "94:\tlearn: 0.4114502\ttotal: 301ms\tremaining: 47.5ms\n",
      "95:\tlearn: 0.4112157\ttotal: 304ms\tremaining: 44.3ms\n",
      "96:\tlearn: 0.4110451\ttotal: 307ms\tremaining: 41.1ms\n",
      "97:\tlearn: 0.4108072\ttotal: 310ms\tremaining: 37.9ms\n",
      "98:\tlearn: 0.4106400\ttotal: 313ms\tremaining: 34.7ms\n",
      "99:\tlearn: 0.4105551\ttotal: 315ms\tremaining: 31.5ms\n",
      "100:\tlearn: 0.4102579\ttotal: 318ms\tremaining: 28.3ms\n",
      "101:\tlearn: 0.4098543\ttotal: 321ms\tremaining: 25.2ms\n",
      "102:\tlearn: 0.4095918\ttotal: 324ms\tremaining: 22ms\n",
      "103:\tlearn: 0.4094217\ttotal: 327ms\tremaining: 18.9ms\n",
      "104:\tlearn: 0.4092056\ttotal: 330ms\tremaining: 15.7ms\n",
      "105:\tlearn: 0.4090213\ttotal: 333ms\tremaining: 12.6ms\n",
      "106:\tlearn: 0.4086865\ttotal: 335ms\tremaining: 9.4ms\n",
      "107:\tlearn: 0.4084509\ttotal: 338ms\tremaining: 6.26ms\n",
      "108:\tlearn: 0.4082537\ttotal: 341ms\tremaining: 3.13ms\n",
      "109:\tlearn: 0.4080666\ttotal: 344ms\tremaining: 0us\n",
      "Training time: 13.979228734970093 s\n",
      "Prediction time: 0.031777381896972656 s\n",
      "\n"
     ]
    }
   ],
   "source": [
    "catboost_rd_grid = random_grid_search_train(cb.CatBoostClassifier(), param_grid, 10, 'f1', X_train, y_train, X_val, y_val)"
   ]
  },
  {
   "cell_type": "code",
   "execution_count": 66,
   "id": "936b29dc-a1e8-47ed-bc64-e35a490f3c75",
   "metadata": {},
   "outputs": [
    {
     "data": {
      "text/plain": [
       "[0.5833333333333334,\n",
       " 0.5792079207920792,\n",
       " 0.5876612059951202,\n",
       " 0.5758116303960042,\n",
       " 0.5848857644991213,\n",
       " 0.5972508591065292,\n",
       " 0.6097231600270089,\n",
       " 0.5771003190358029,\n",
       " 0.5843563661873027,\n",
       " 0.5968077723802915,\n",
       " 0.6097231600270089,\n",
       " 0.5771003190358029]"
      ]
     },
     "execution_count": 66,
     "metadata": {},
     "output_type": "execute_result"
    }
   ],
   "source": [
    "scores"
   ]
  },
  {
   "cell_type": "code",
   "execution_count": 67,
   "id": "c72a75cc-6c1c-4c4e-8be4-6e77a92af8d6",
   "metadata": {},
   "outputs": [],
   "source": [
    "scores_total.append(scores)\n",
    "train_time_total.append(training_times)\n",
    "pred_time_total.append(prediction_times)"
   ]
  },
  {
   "cell_type": "markdown",
   "id": "71abe651-09e4-4534-b612-5f9b818f91a3",
   "metadata": {},
   "source": [
    "## 3. Результаты"
   ]
  },
  {
   "cell_type": "code",
   "execution_count": 68,
   "id": "9c19645e-cb2a-4af7-ae2b-1422b847706d",
   "metadata": {},
   "outputs": [],
   "source": [
    "models = ['sklearnGB','XGBoost','LightGBM','CatBoost',\n",
    "          'sklearnGB GridSearch','XGBoost GridSearch','LightGBM GridSearch','CatBoost GridSearch',\n",
    "          'sklearnGB RandomSearch','XGBoost RandomSearch','LightGBM RandomSearch','CatBoost RandomSearch']"
   ]
  },
  {
   "cell_type": "markdown",
   "id": "1f4990df-3cf3-48e7-8442-a8141550ee62",
   "metadata": {},
   "source": [
    "### Сравнительные таблицы\n",
    "\n",
    "Три таблицы для сравнения бустингов при разных видах метрик:"
   ]
  },
  {
   "cell_type": "code",
   "execution_count": 69,
   "id": "b1afa032-d0c6-4226-836a-93a1d7a7f11a",
   "metadata": {
    "tags": []
   },
   "outputs": [
    {
     "data": {
      "text/html": [
       "<div>\n",
       "<style scoped>\n",
       "    .dataframe tbody tr th:only-of-type {\n",
       "        vertical-align: middle;\n",
       "    }\n",
       "\n",
       "    .dataframe tbody tr th {\n",
       "        vertical-align: top;\n",
       "    }\n",
       "\n",
       "    .dataframe thead th {\n",
       "        text-align: right;\n",
       "    }\n",
       "</style>\n",
       "<table border=\"1\" class=\"dataframe\">\n",
       "  <thead>\n",
       "    <tr style=\"text-align: right;\">\n",
       "      <th></th>\n",
       "      <th>Training Time</th>\n",
       "      <th>Prediction Time</th>\n",
       "      <th>AUC-ROC Score</th>\n",
       "    </tr>\n",
       "  </thead>\n",
       "  <tbody>\n",
       "    <tr>\n",
       "      <th>sklearnGB</th>\n",
       "      <td>0.599</td>\n",
       "      <td>0.010</td>\n",
       "      <td>0.809</td>\n",
       "    </tr>\n",
       "    <tr>\n",
       "      <th>XGBoost</th>\n",
       "      <td>0.137</td>\n",
       "      <td>0.011</td>\n",
       "      <td>0.806</td>\n",
       "    </tr>\n",
       "    <tr>\n",
       "      <th>LightGBM</th>\n",
       "      <td>0.081</td>\n",
       "      <td>0.017</td>\n",
       "      <td>0.809</td>\n",
       "    </tr>\n",
       "    <tr>\n",
       "      <th>CatBoost</th>\n",
       "      <td>0.446</td>\n",
       "      <td>0.021</td>\n",
       "      <td>0.811</td>\n",
       "    </tr>\n",
       "    <tr>\n",
       "      <th>sklearnGB GridSearch</th>\n",
       "      <td>121.585</td>\n",
       "      <td>0.014</td>\n",
       "      <td>0.809</td>\n",
       "    </tr>\n",
       "    <tr>\n",
       "      <th>XGBoost GridSearch</th>\n",
       "      <td>61.381</td>\n",
       "      <td>0.010</td>\n",
       "      <td>0.809</td>\n",
       "    </tr>\n",
       "    <tr>\n",
       "      <th>LightGBM GridSearch</th>\n",
       "      <td>18.306</td>\n",
       "      <td>0.015</td>\n",
       "      <td>0.807</td>\n",
       "    </tr>\n",
       "    <tr>\n",
       "      <th>CatBoost GridSearch</th>\n",
       "      <td>80.017</td>\n",
       "      <td>0.024</td>\n",
       "      <td>0.809</td>\n",
       "    </tr>\n",
       "    <tr>\n",
       "      <th>sklearnGB RandomSearch</th>\n",
       "      <td>15.969</td>\n",
       "      <td>0.015</td>\n",
       "      <td>0.808</td>\n",
       "    </tr>\n",
       "    <tr>\n",
       "      <th>XGBoost RandomSearch</th>\n",
       "      <td>11.665</td>\n",
       "      <td>0.010</td>\n",
       "      <td>0.809</td>\n",
       "    </tr>\n",
       "    <tr>\n",
       "      <th>LightGBM RandomSearch</th>\n",
       "      <td>2.825</td>\n",
       "      <td>0.011</td>\n",
       "      <td>0.811</td>\n",
       "    </tr>\n",
       "    <tr>\n",
       "      <th>CatBoost RandomSearch</th>\n",
       "      <td>11.071</td>\n",
       "      <td>0.032</td>\n",
       "      <td>0.810</td>\n",
       "    </tr>\n",
       "  </tbody>\n",
       "</table>\n",
       "</div>"
      ],
      "text/plain": [
       "                        Training Time  Prediction Time  AUC-ROC Score\n",
       "sklearnGB                       0.599            0.010          0.809\n",
       "XGBoost                         0.137            0.011          0.806\n",
       "LightGBM                        0.081            0.017          0.809\n",
       "CatBoost                        0.446            0.021          0.811\n",
       "sklearnGB GridSearch          121.585            0.014          0.809\n",
       "XGBoost GridSearch             61.381            0.010          0.809\n",
       "LightGBM GridSearch            18.306            0.015          0.807\n",
       "CatBoost GridSearch            80.017            0.024          0.809\n",
       "sklearnGB RandomSearch         15.969            0.015          0.808\n",
       "XGBoost RandomSearch           11.665            0.010          0.809\n",
       "LightGBM RandomSearch           2.825            0.011          0.811\n",
       "CatBoost RandomSearch          11.071            0.032          0.810"
      ]
     },
     "execution_count": 69,
     "metadata": {},
     "output_type": "execute_result"
    }
   ],
   "source": [
    "names = ['Training Time','Prediction Time','AUC-ROC Score']\n",
    "df1 = pd.DataFrame(np.round([train_time_total[0],pred_time_total[0],scores_total[0]], 3), columns = models, index = names).T\n",
    "df1"
   ]
  },
  {
   "cell_type": "code",
   "execution_count": 70,
   "id": "33f65792-5f2e-42b4-bbdc-fe992b66690f",
   "metadata": {},
   "outputs": [
    {
     "data": {
      "text/html": [
       "<div>\n",
       "<style scoped>\n",
       "    .dataframe tbody tr th:only-of-type {\n",
       "        vertical-align: middle;\n",
       "    }\n",
       "\n",
       "    .dataframe tbody tr th {\n",
       "        vertical-align: top;\n",
       "    }\n",
       "\n",
       "    .dataframe thead th {\n",
       "        text-align: right;\n",
       "    }\n",
       "</style>\n",
       "<table border=\"1\" class=\"dataframe\">\n",
       "  <thead>\n",
       "    <tr style=\"text-align: right;\">\n",
       "      <th></th>\n",
       "      <th>Training Time</th>\n",
       "      <th>Prediction Time</th>\n",
       "      <th>Accuracy Score</th>\n",
       "    </tr>\n",
       "  </thead>\n",
       "  <tbody>\n",
       "    <tr>\n",
       "      <th>sklearnGB</th>\n",
       "      <td>0.922</td>\n",
       "      <td>0.011</td>\n",
       "      <td>0.793</td>\n",
       "    </tr>\n",
       "    <tr>\n",
       "      <th>XGBoost</th>\n",
       "      <td>0.144</td>\n",
       "      <td>0.007</td>\n",
       "      <td>0.793</td>\n",
       "    </tr>\n",
       "    <tr>\n",
       "      <th>LightGBM</th>\n",
       "      <td>0.068</td>\n",
       "      <td>0.010</td>\n",
       "      <td>0.794</td>\n",
       "    </tr>\n",
       "    <tr>\n",
       "      <th>CatBoost</th>\n",
       "      <td>0.198</td>\n",
       "      <td>0.014</td>\n",
       "      <td>0.793</td>\n",
       "    </tr>\n",
       "    <tr>\n",
       "      <th>sklearnGB GridSearch</th>\n",
       "      <td>131.644</td>\n",
       "      <td>0.022</td>\n",
       "      <td>0.795</td>\n",
       "    </tr>\n",
       "    <tr>\n",
       "      <th>XGBoost GridSearch</th>\n",
       "      <td>61.019</td>\n",
       "      <td>0.009</td>\n",
       "      <td>0.798</td>\n",
       "    </tr>\n",
       "    <tr>\n",
       "      <th>LightGBM GridSearch</th>\n",
       "      <td>18.025</td>\n",
       "      <td>0.009</td>\n",
       "      <td>0.799</td>\n",
       "    </tr>\n",
       "    <tr>\n",
       "      <th>CatBoost GridSearch</th>\n",
       "      <td>68.238</td>\n",
       "      <td>0.027</td>\n",
       "      <td>0.792</td>\n",
       "    </tr>\n",
       "    <tr>\n",
       "      <th>sklearnGB RandomSearch</th>\n",
       "      <td>24.456</td>\n",
       "      <td>0.026</td>\n",
       "      <td>0.793</td>\n",
       "    </tr>\n",
       "    <tr>\n",
       "      <th>XGBoost RandomSearch</th>\n",
       "      <td>11.059</td>\n",
       "      <td>0.007</td>\n",
       "      <td>0.795</td>\n",
       "    </tr>\n",
       "    <tr>\n",
       "      <th>LightGBM RandomSearch</th>\n",
       "      <td>2.905</td>\n",
       "      <td>0.008</td>\n",
       "      <td>0.800</td>\n",
       "    </tr>\n",
       "    <tr>\n",
       "      <th>CatBoost RandomSearch</th>\n",
       "      <td>15.672</td>\n",
       "      <td>0.034</td>\n",
       "      <td>0.792</td>\n",
       "    </tr>\n",
       "  </tbody>\n",
       "</table>\n",
       "</div>"
      ],
      "text/plain": [
       "                        Training Time  Prediction Time  Accuracy Score\n",
       "sklearnGB                       0.922            0.011           0.793\n",
       "XGBoost                         0.144            0.007           0.793\n",
       "LightGBM                        0.068            0.010           0.794\n",
       "CatBoost                        0.198            0.014           0.793\n",
       "sklearnGB GridSearch          131.644            0.022           0.795\n",
       "XGBoost GridSearch             61.019            0.009           0.798\n",
       "LightGBM GridSearch            18.025            0.009           0.799\n",
       "CatBoost GridSearch            68.238            0.027           0.792\n",
       "sklearnGB RandomSearch         24.456            0.026           0.793\n",
       "XGBoost RandomSearch           11.059            0.007           0.795\n",
       "LightGBM RandomSearch           2.905            0.008           0.800\n",
       "CatBoost RandomSearch          15.672            0.034           0.792"
      ]
     },
     "execution_count": 70,
     "metadata": {},
     "output_type": "execute_result"
    }
   ],
   "source": [
    "names = ['Training Time','Prediction Time','Accuracy Score']\n",
    "df2 = pd.DataFrame(np.round([train_time_total[1],pred_time_total[1],scores_total[1]], 3), columns = models, index = names).T\n",
    "df2"
   ]
  },
  {
   "cell_type": "code",
   "execution_count": 71,
   "id": "9a657f86-d0c8-4131-b561-36160abc94df",
   "metadata": {},
   "outputs": [
    {
     "data": {
      "text/html": [
       "<div>\n",
       "<style scoped>\n",
       "    .dataframe tbody tr th:only-of-type {\n",
       "        vertical-align: middle;\n",
       "    }\n",
       "\n",
       "    .dataframe tbody tr th {\n",
       "        vertical-align: top;\n",
       "    }\n",
       "\n",
       "    .dataframe thead th {\n",
       "        text-align: right;\n",
       "    }\n",
       "</style>\n",
       "<table border=\"1\" class=\"dataframe\">\n",
       "  <thead>\n",
       "    <tr style=\"text-align: right;\">\n",
       "      <th></th>\n",
       "      <th>Training Time</th>\n",
       "      <th>Prediction Time</th>\n",
       "      <th>F1 Score</th>\n",
       "    </tr>\n",
       "  </thead>\n",
       "  <tbody>\n",
       "    <tr>\n",
       "      <th>sklearnGB</th>\n",
       "      <td>0.894</td>\n",
       "      <td>0.013</td>\n",
       "      <td>0.583</td>\n",
       "    </tr>\n",
       "    <tr>\n",
       "      <th>XGBoost</th>\n",
       "      <td>0.133</td>\n",
       "      <td>0.009</td>\n",
       "      <td>0.579</td>\n",
       "    </tr>\n",
       "    <tr>\n",
       "      <th>LightGBM</th>\n",
       "      <td>0.059</td>\n",
       "      <td>0.014</td>\n",
       "      <td>0.588</td>\n",
       "    </tr>\n",
       "    <tr>\n",
       "      <th>CatBoost</th>\n",
       "      <td>0.190</td>\n",
       "      <td>0.018</td>\n",
       "      <td>0.576</td>\n",
       "    </tr>\n",
       "    <tr>\n",
       "      <th>sklearnGB GridSearch</th>\n",
       "      <td>128.258</td>\n",
       "      <td>0.030</td>\n",
       "      <td>0.585</td>\n",
       "    </tr>\n",
       "    <tr>\n",
       "      <th>XGBoost GridSearch</th>\n",
       "      <td>61.169</td>\n",
       "      <td>0.011</td>\n",
       "      <td>0.597</td>\n",
       "    </tr>\n",
       "    <tr>\n",
       "      <th>LightGBM GridSearch</th>\n",
       "      <td>18.498</td>\n",
       "      <td>0.013</td>\n",
       "      <td>0.610</td>\n",
       "    </tr>\n",
       "    <tr>\n",
       "      <th>CatBoost GridSearch</th>\n",
       "      <td>67.855</td>\n",
       "      <td>0.032</td>\n",
       "      <td>0.577</td>\n",
       "    </tr>\n",
       "    <tr>\n",
       "      <th>sklearnGB RandomSearch</th>\n",
       "      <td>14.295</td>\n",
       "      <td>0.024</td>\n",
       "      <td>0.584</td>\n",
       "    </tr>\n",
       "    <tr>\n",
       "      <th>XGBoost RandomSearch</th>\n",
       "      <td>8.363</td>\n",
       "      <td>0.010</td>\n",
       "      <td>0.597</td>\n",
       "    </tr>\n",
       "    <tr>\n",
       "      <th>LightGBM RandomSearch</th>\n",
       "      <td>2.720</td>\n",
       "      <td>0.011</td>\n",
       "      <td>0.610</td>\n",
       "    </tr>\n",
       "    <tr>\n",
       "      <th>CatBoost RandomSearch</th>\n",
       "      <td>13.979</td>\n",
       "      <td>0.032</td>\n",
       "      <td>0.577</td>\n",
       "    </tr>\n",
       "  </tbody>\n",
       "</table>\n",
       "</div>"
      ],
      "text/plain": [
       "                        Training Time  Prediction Time  F1 Score\n",
       "sklearnGB                       0.894            0.013     0.583\n",
       "XGBoost                         0.133            0.009     0.579\n",
       "LightGBM                        0.059            0.014     0.588\n",
       "CatBoost                        0.190            0.018     0.576\n",
       "sklearnGB GridSearch          128.258            0.030     0.585\n",
       "XGBoost GridSearch             61.169            0.011     0.597\n",
       "LightGBM GridSearch            18.498            0.013     0.610\n",
       "CatBoost GridSearch            67.855            0.032     0.577\n",
       "sklearnGB RandomSearch         14.295            0.024     0.584\n",
       "XGBoost RandomSearch            8.363            0.010     0.597\n",
       "LightGBM RandomSearch           2.720            0.011     0.610\n",
       "CatBoost RandomSearch          13.979            0.032     0.577"
      ]
     },
     "execution_count": 71,
     "metadata": {},
     "output_type": "execute_result"
    }
   ],
   "source": [
    "names = ['Training Time','Prediction Time','F1 Score']\n",
    "df3 = pd.DataFrame(np.round([train_time_total[2],pred_time_total[2],scores_total[2]], 3), columns = models, index = names).T\n",
    "df3"
   ]
  },
  {
   "cell_type": "markdown",
   "id": "b7bb25dc-d11b-419f-b017-0b6b3bba6a35",
   "metadata": {},
   "source": [
    "### Сравнительные графики\n",
    "#### Метрика 1: AUC-ROC"
   ]
  },
  {
   "cell_type": "markdown",
   "id": "ad002bc3-3de6-47e5-b49f-cebf5acda8df",
   "metadata": {},
   "source": [
    "**Значения метрик**"
   ]
  },
  {
   "cell_type": "code",
   "execution_count": 72,
   "id": "0aac355b-827e-4a94-9607-ae0574b079b8",
   "metadata": {},
   "outputs": [
    {
     "data": {
      "image/png": "[encoded data removed]",
      "text/plain": [
       "<Figure size 1080x360 with 1 Axes>"
      ]
     },
     "metadata": {
      "needs_background": "light"
     },
     "output_type": "display_data"
    }
   ],
   "source": [
    "model_scores = pd.DataFrame({ 'Model': [name for name in models], 'AUC-ROC': np.round(scores_total[0], 4) })\n",
    "# model_scores.sort_values(by='AUC-ROC',ascending=False,inplace=True)\n",
    "plot_metric(model_scores, compare_mode = 'AUC-ROC')"
   ]
  },
  {
   "cell_type": "markdown",
   "id": "8da11098-e6e7-4b8d-bcab-29ffc2107147",
   "metadata": {},
   "source": [
    "**Время для трейна**"
   ]
  },
  {
   "cell_type": "code",
   "execution_count": 73,
   "id": "d3a27fc1-a566-4bc4-af71-fc1fb1bc0362",
   "metadata": {},
   "outputs": [
    {
     "data": {
      "image/png": "[encoded data removed]",
      "text/plain": [
       "<Figure size 1080x360 with 1 Axes>"
      ]
     },
     "metadata": {
      "needs_background": "light"
     },
     "output_type": "display_data"
    }
   ],
   "source": [
    "model_training_times = pd.DataFrame({ 'Model': [name for name in models], 'Training times': np.round(train_time_total[0], 2) })\n",
    "# model_training_times.sort_values(by='Training times',ascending=False,inplace=True)\n",
    "plot_metric(model_training_times, compare_mode = 'Training times')"
   ]
  },
  {
   "cell_type": "markdown",
   "id": "2c819b11-d126-4226-88a8-b395c8c5fe1b",
   "metadata": {},
   "source": [
    "**Время для предсказания**"
   ]
  },
  {
   "cell_type": "code",
   "execution_count": 74,
   "id": "66174213-9741-4029-89bb-d97f4480ac70",
   "metadata": {},
   "outputs": [
    {
     "data": {
      "image/png": "[encoded data removed]",
      "text/plain": [
       "<Figure size 1080x360 with 1 Axes>"
      ]
     },
     "metadata": {
      "needs_background": "light"
     },
     "output_type": "display_data"
    }
   ],
   "source": [
    "model_pred_times = pd.DataFrame({ 'Model': [name for name in models], 'Prediction times': np.round(pred_time_total[0], 4) })\n",
    "# model_pred_times.sort_values(by='Prediction times',ascending=False,inplace=True)\n",
    "plot_metric(model_pred_times, compare_mode = 'Prediction times')"
   ]
  },
  {
   "cell_type": "markdown",
   "id": "d6225a19-1d92-4690-8158-23f0c1edab96",
   "metadata": {},
   "source": [
    "#### Метрика 2: Accuracy"
   ]
  },
  {
   "cell_type": "markdown",
   "id": "6e1cb7a5-a317-449b-b857-44a3576ec0dc",
   "metadata": {},
   "source": [
    "**Значения метрик**"
   ]
  },
  {
   "cell_type": "code",
   "execution_count": 75,
   "id": "c4e8878b-cd16-495c-bfd5-8808f5ea0c70",
   "metadata": {},
   "outputs": [
    {
     "data": {
      "image/png": "[encoded data removed]",
      "text/plain": [
       "<Figure size 1080x360 with 1 Axes>"
      ]
     },
     "metadata": {
      "needs_background": "light"
     },
     "output_type": "display_data"
    }
   ],
   "source": [
    "model_scores = pd.DataFrame({ 'Model': [name for name in models], 'Accuracy': np.round(scores_total[1], 4) })\n",
    "# model_scores.sort_values(by='AUC-ROC',ascending=False,inplace=True)\n",
    "plot_metric(model_scores, compare_mode = 'Accuracy')"
   ]
  },
  {
   "cell_type": "markdown",
   "id": "c9e1465b-1aa2-46d0-bdf7-5ac08a7ade47",
   "metadata": {},
   "source": [
    "**Время для трейна**"
   ]
  },
  {
   "cell_type": "code",
   "execution_count": 76,
   "id": "7eae22fd-de3c-41b2-9773-0aa5b0f9c81e",
   "metadata": {},
   "outputs": [
    {
     "data": {
      "image/png": "[encoded data removed]",
      "text/plain": [
       "<Figure size 1080x360 with 1 Axes>"
      ]
     },
     "metadata": {
      "needs_background": "light"
     },
     "output_type": "display_data"
    }
   ],
   "source": [
    "model_training_times = pd.DataFrame({ 'Model': [name for name in models], 'Training times': np.round(train_time_total[1], 2) })\n",
    "# model_training_times.sort_values(by='Training times',ascending=False,inplace=True)\n",
    "plot_metric(model_training_times, compare_mode = 'Training times')"
   ]
  },
  {
   "cell_type": "markdown",
   "id": "d01dba43-9211-47c4-9ddd-1cbfae1a2173",
   "metadata": {},
   "source": [
    "**Время для предсказания**"
   ]
  },
  {
   "cell_type": "code",
   "execution_count": 77,
   "id": "72ca4cb6-5023-4b1a-ae6e-b10b3bf81a5b",
   "metadata": {},
   "outputs": [
    {
     "data": {
      "image/png": "[encoded data removed]",
      "text/plain": [
       "<Figure size 1080x360 with 1 Axes>"
      ]
     },
     "metadata": {
      "needs_background": "light"
     },
     "output_type": "display_data"
    }
   ],
   "source": [
    "model_pred_times = pd.DataFrame({ 'Model': [name for name in models], 'Prediction times': np.round(pred_time_total[1], 4) })\n",
    "# model_pred_times.sort_values(by='Prediction times',ascending=False,inplace=True)\n",
    "plot_metric(model_pred_times, compare_mode = 'Prediction times')"
   ]
  },
  {
   "cell_type": "markdown",
   "id": "683d139e-77ec-4e75-8552-8ec7faca3990",
   "metadata": {},
   "source": [
    "#### Метрика 3: F1"
   ]
  },
  {
   "cell_type": "markdown",
   "id": "596b9191-a067-44b0-a0a9-a8cdff1e8f89",
   "metadata": {},
   "source": [
    "**Значения метрик**"
   ]
  },
  {
   "cell_type": "code",
   "execution_count": 78,
   "id": "8697d866-0118-42cf-bf91-cdc32a9a5120",
   "metadata": {},
   "outputs": [
    {
     "data": {
      "image/png": "[encoded data removed]",
      "text/plain": [
       "<Figure size 1080x360 with 1 Axes>"
      ]
     },
     "metadata": {
      "needs_background": "light"
     },
     "output_type": "display_data"
    }
   ],
   "source": [
    "model_scores = pd.DataFrame({ 'Model': [name for name in models], 'F1': np.round(scores_total[2], 4) })\n",
    "# model_scores.sort_values(by='AUC-ROC',ascending=False,inplace=True)\n",
    "plot_metric(model_scores, compare_mode = 'F1')"
   ]
  },
  {
   "cell_type": "markdown",
   "id": "3184a5e4-d720-4bcc-8f9f-b87455d5d3c9",
   "metadata": {},
   "source": [
    "**Время для трейна**"
   ]
  },
  {
   "cell_type": "code",
   "execution_count": 79,
   "id": "cf460b4e-9b5e-40e8-a571-6a3f891d9d64",
   "metadata": {},
   "outputs": [
    {
     "data": {
      "image/png": "[encoded data removed]",
      "text/plain": [
       "<Figure size 1080x360 with 1 Axes>"
      ]
     },
     "metadata": {
      "needs_background": "light"
     },
     "output_type": "display_data"
    }
   ],
   "source": [
    "model_training_times = pd.DataFrame({ 'Model': [name for name in models], 'Training times': np.round(train_time_total[2], 2) })\n",
    "# model_training_times.sort_values(by='Training times',ascending=False,inplace=True)\n",
    "plot_metric(model_training_times, compare_mode = 'Training times')"
   ]
  },
  {
   "cell_type": "markdown",
   "id": "38a36290-a883-4e4a-9f95-6d8906cd7910",
   "metadata": {},
   "source": [
    "**Время для предсказания**"
   ]
  },
  {
   "cell_type": "code",
   "execution_count": 80,
   "id": "4e45b1ca-498b-42a1-948c-a896f5dfd5ed",
   "metadata": {},
   "outputs": [
    {
     "data": {
      "image/png": "[encoded data removed]",
      "text/plain": [
       "<Figure size 1080x360 with 1 Axes>"
      ]
     },
     "metadata": {
      "needs_background": "light"
     },
     "output_type": "display_data"
    }
   ],
   "source": [
    "model_pred_times = pd.DataFrame({ 'Model': [name for name in models], 'Prediction times': np.round(pred_time_total[2], 4) })\n",
    "# model_pred_times.sort_values(by='Prediction times',ascending=False,inplace=True)\n",
    "plot_metric(model_pred_times, compare_mode = 'Prediction times')"
   ]
  },
  {
   "cell_type": "markdown",
   "id": "91c3f0d6-c105-41a4-abdc-3fcc9a6a6a97",
   "metadata": {},
   "source": [
    "## 4. Выводы\n",
    "1. Качества моделей\n",
    "    - Нет \"явных\" победителей - на всех трех метриках показаны, что бустинги построили модели с приближенными равными качествами. Это вывод поддерживается и в многих подобных сравнений бустинга.\n",
    "    - Оптимизация гиперпараметров не дала сильной прирост. Это объяснится тем, что при сравнении используется датасет с не большим объемом данных, поэтому место для улучшения моделей с подбором гиперпараметров не большое. \n",
    "    - При использовании RandomizedSearch давалась модель с равным качеством модели, которую тюнила с GridSearch, при этом скорость трейна 4х быстрее чем GridSearch. Это в свою очередь означает, что при подборе гиперпараметров рекомендуется использовать разные виды оптимизации кроме поиска по сетке, например - можно использовать случайный поиск, или байесовскую оптимизацию, которая уже реализована разными библиотеками.\n",
    "    \n",
    "    \n",
    "2. Скорость трейна и прогноза\n",
    "    - LightGBM - самый быстрый на трейне - 3х быстрее XGBoost, 3-4х быстрее CatBoost по экспериментам. А реализация в sklearn оказывается самой медленной среди всех реализацией.\n",
    "    - Скорости при прогнозе: XGBoost > sklearnGB > LightGBM > CatBoost. Модели с тюнигом прогнозируют подольше. Но поскольку все модели прогнозируют где-то 0.01-0.03 сек., поэтому отличие может не учитываться.\n",
    "3. Про дисбаланс датасета: присутствует дисбаланс таргет-значений, который потенциально влияет на прогноз. Поэтомй попробовал использовать Over-Sampling SMOTE. Но это не помогло.\n"
   ]
  }
 ],
 "metadata": {
  "kernelspec": {
   "display_name": "Python 3",
   "language": "python",
   "name": "python3"
  },
  "language_info": {
   "codemirror_mode": {
    "name": "ipython",
    "version": 3
   },
   "file_extension": ".py",
   "mimetype": "text/x-python",
   "name": "python",
   "nbconvert_exporter": "python",
   "pygments_lexer": "ipython3",
   "version": "3.8.8"
  },
  "toc-autonumbering": false,
  "toc-showcode": false,
  "toc-showmarkdowntxt": false
 },
 "nbformat": 4,
 "nbformat_minor": 5
}
